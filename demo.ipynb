{
 "cells": [
  {
   "metadata": {},
   "cell_type": "markdown",
   "source": "# Project Demo",
   "id": "788eea05841293ce"
  },
  {
   "metadata": {
    "ExecuteTime": {
     "end_time": "2024-06-19T22:01:54.335911Z",
     "start_time": "2024-06-19T22:01:54.326709Z"
    }
   },
   "cell_type": "code",
   "source": [
    "import random\n",
    "\n",
    "import numpy as np\n",
    "\n",
    "from source.portfolio import Portfolio\n",
    "from source.utils import calc_var\n",
    "from source.utils import calc_es"
   ],
   "id": "272df6f8db7a0d60",
   "outputs": [],
   "execution_count": 16
  },
  {
   "metadata": {
    "ExecuteTime": {
     "end_time": "2024-06-19T22:01:13.493023Z",
     "start_time": "2024-06-19T22:01:13.489607Z"
    }
   },
   "cell_type": "code",
   "source": "random.seed(42)",
   "id": "9299fb4b4afedaf2",
   "outputs": [],
   "execution_count": 2
  },
  {
   "metadata": {},
   "cell_type": "markdown",
   "source": "### Initialize portfolio",
   "id": "2af2fd1807345e4b"
  },
  {
   "metadata": {
    "ExecuteTime": {
     "end_time": "2024-06-19T22:01:13.510430Z",
     "start_time": "2024-06-19T22:01:13.494773Z"
    }
   },
   "cell_type": "code",
   "source": [
    "portfolio = Portfolio(\n",
    "    start_date='2023-12-02',\n",
    "    investing_amounts={\n",
    "        'bonds': 10e6,  # 5 bonds\n",
    "        'stocks': 1e6,  # 10 stocks\n",
    "        'fx': 100e6,  # 2 currency pairs\n",
    "    },\n",
    "    max_relative_error=0.1,  # 10% deviation from target weight \n",
    ")"
   ],
   "id": "e93520da2d13538f",
   "outputs": [],
   "execution_count": 3
  },
  {
   "metadata": {
    "ExecuteTime": {
     "end_time": "2024-06-19T22:01:13.514028Z",
     "start_time": "2024-06-19T22:01:13.511318Z"
    }
   },
   "cell_type": "code",
   "source": "print(f'Total portfolio size: {portfolio.total_amount // 1e6} mln')",
   "id": "6664f97530463384",
   "outputs": [
    {
     "name": "stdout",
     "output_type": "stream",
     "text": [
      "Total portfolio size: 260.0 mln\n"
     ]
    }
   ],
   "execution_count": 4
  },
  {
   "metadata": {
    "ExecuteTime": {
     "end_time": "2024-06-19T22:01:13.523554Z",
     "start_time": "2024-06-19T22:01:13.517758Z"
    }
   },
   "cell_type": "code",
   "source": [
    "np.isclose(\n",
    "    portfolio.target_weights['bonds'] * 5\n",
    "    + portfolio.target_weights['stocks'] * 10\n",
    "    + portfolio.target_weights['fx'] * 2,\n",
    "    1\n",
    ")"
   ],
   "id": "5363913c94accea3",
   "outputs": [
    {
     "data": {
      "text/plain": [
       "True"
      ]
     },
     "execution_count": 5,
     "metadata": {},
     "output_type": "execute_result"
    }
   ],
   "execution_count": 5
  },
  {
   "metadata": {
    "ExecuteTime": {
     "end_time": "2024-06-19T22:01:13.529160Z",
     "start_time": "2024-06-19T22:01:13.524572Z"
    }
   },
   "cell_type": "code",
   "source": "portfolio.get_last_price('GAZP')",
   "id": "d54f0491ebcf1ae3",
   "outputs": [
    {
     "data": {
      "text/plain": [
       "162.61"
      ]
     },
     "execution_count": 6,
     "metadata": {},
     "output_type": "execute_result"
    }
   ],
   "execution_count": 6
  },
  {
   "metadata": {},
   "cell_type": "markdown",
   "source": "### Rebalance portfolio",
   "id": "3d9159a59d6bb54b"
  },
  {
   "metadata": {
    "ExecuteTime": {
     "end_time": "2024-06-19T22:01:13.533572Z",
     "start_time": "2024-06-19T22:01:13.530537Z"
    }
   },
   "cell_type": "code",
   "source": "portfolio.all_instruments",
   "id": "970f45866c007313",
   "outputs": [
    {
     "data": {
      "text/plain": [
       "{'bonds': {'SU26218RMFS6': 0,\n",
       "  'SU26221RMFS0': 0,\n",
       "  'SU26222RMFS8': 0,\n",
       "  'SU26224RMFS4': 0,\n",
       "  'SU26230RMFS1': 0},\n",
       " 'stocks': {'GAZP': 0,\n",
       "  'GMKN': 0,\n",
       "  'LKOH': 0,\n",
       "  'MAGN': 0,\n",
       "  'MGNT': 0,\n",
       "  'MOEX': 0,\n",
       "  'ROSN': 0,\n",
       "  'RUAL': 0,\n",
       "  'SBER': 0,\n",
       "  'VTBR': 0},\n",
       " 'fx': {'USD_RUB': 0, 'EUR_RUB': 0}}"
      ]
     },
     "execution_count": 7,
     "metadata": {},
     "output_type": "execute_result"
    }
   ],
   "execution_count": 7
  },
  {
   "metadata": {
    "ExecuteTime": {
     "end_time": "2024-06-19T22:01:13.537257Z",
     "start_time": "2024-06-19T22:01:13.534455Z"
    }
   },
   "cell_type": "code",
   "source": "portfolio.is_rebalancing_needed()",
   "id": "aa0e9f4e5bdaba51",
   "outputs": [
    {
     "data": {
      "text/plain": [
       "True"
      ]
     },
     "execution_count": 8,
     "metadata": {},
     "output_type": "execute_result"
    }
   ],
   "execution_count": 8
  },
  {
   "metadata": {
    "ExecuteTime": {
     "end_time": "2024-06-19T22:01:13.543366Z",
     "start_time": "2024-06-19T22:01:13.538061Z"
    }
   },
   "cell_type": "code",
   "source": "portfolio.rebalance_portfolio()",
   "id": "47a37ffd56ec75c7",
   "outputs": [],
   "execution_count": 9
  },
  {
   "metadata": {
    "ExecuteTime": {
     "end_time": "2024-06-19T22:01:13.546045Z",
     "start_time": "2024-06-19T22:01:13.543898Z"
    }
   },
   "cell_type": "code",
   "source": "portfolio.all_instruments",
   "id": "395def601f171dc9",
   "outputs": [
    {
     "data": {
      "text/plain": [
       "{'bonds': {'SU26218RMFS6': 1180,\n",
       "  'SU26221RMFS0': 1278,\n",
       "  'SU26222RMFS8': 1042,\n",
       "  'SU26224RMFS4': 1213,\n",
       "  'SU26230RMFS1': 1382},\n",
       " 'stocks': {'GAZP': 6149,\n",
       "  'GMKN': 6007,\n",
       "  'LKOH': 139,\n",
       "  'MAGN': 19790,\n",
       "  'MGNT': 156,\n",
       "  'MOEX': 5027,\n",
       "  'ROSN': 1738,\n",
       "  'RUAL': 27207,\n",
       "  'SBER': 3650,\n",
       "  'VTBR': 42354934},\n",
       " 'fx': {'USD_RUB': 1128898.79, 'EUR_RUB': 1032176.02}}"
      ]
     },
     "execution_count": 10,
     "metadata": {},
     "output_type": "execute_result"
    }
   ],
   "execution_count": 10
  },
  {
   "metadata": {},
   "cell_type": "markdown",
   "source": "### Fair value risk metrics",
   "id": "a89075d751590965"
  },
  {
   "metadata": {
    "ExecuteTime": {
     "end_time": "2024-06-19T22:01:13.556590Z",
     "start_time": "2024-06-19T22:01:13.546576Z"
    }
   },
   "cell_type": "code",
   "source": [
    "fvalue_dist = portfolio.simulate_fair_value_dist(\n",
    "    n_days=1,\n",
    "    n_sim=1_000,\n",
    ")"
   ],
   "id": "b356d4403104b200",
   "outputs": [],
   "execution_count": 11
  },
  {
   "metadata": {
    "ExecuteTime": {
     "end_time": "2024-06-19T22:03:00.042187Z",
     "start_time": "2024-06-19T22:03:00.030347Z"
    }
   },
   "cell_type": "code",
   "source": [
    "level = 99\n",
    "var = calc_var(fvalue_dist, level=level)\n",
    "print(f\"VaR {level}%: {var:_.2f}\")"
   ],
   "id": "1a296dfef8633b96",
   "outputs": [
    {
     "name": "stdout",
     "output_type": "stream",
     "text": [
      "VaR 99%: 419_632_069_313.87\n"
     ]
    }
   ],
   "execution_count": 19
  },
  {
   "metadata": {
    "ExecuteTime": {
     "end_time": "2024-06-19T22:03:43.138918Z",
     "start_time": "2024-06-19T22:03:43.125375Z"
    }
   },
   "cell_type": "code",
   "source": [
    "level = 97.5\n",
    "es = calc_es(fvalue_dist, level=level)\n",
    "print(f\"Expected Shortfall {level}%: {es:_.2f}\")"
   ],
   "id": "50e290bffb102058",
   "outputs": [
    {
     "name": "stdout",
     "output_type": "stream",
     "text": [
      "Expected Shortfall 97.5%: 215_649_656_784.70\n"
     ]
    }
   ],
   "execution_count": 20
  },
  {
   "metadata": {},
   "cell_type": "code",
   "outputs": [],
   "execution_count": null,
   "source": "",
   "id": "6daf115f699280c6"
  }
 ],
 "metadata": {
  "kernelspec": {
   "display_name": "Python 3",
   "language": "python",
   "name": "python3"
  },
  "language_info": {
   "codemirror_mode": {
    "name": "ipython",
    "version": 2
   },
   "file_extension": ".py",
   "mimetype": "text/x-python",
   "name": "python",
   "nbconvert_exporter": "python",
   "pygments_lexer": "ipython2",
   "version": "2.7.6"
  }
 },
 "nbformat": 4,
 "nbformat_minor": 5
}
