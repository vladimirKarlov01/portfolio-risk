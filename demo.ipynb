{
 "cells": [
  {
   "metadata": {},
   "cell_type": "markdown",
   "source": "# Project Demo",
   "id": "788eea05841293ce"
  },
  {
   "metadata": {
    "ExecuteTime": {
     "end_time": "2024-06-16T21:17:24.496213Z",
     "start_time": "2024-06-16T21:17:24.492570Z"
    }
   },
   "cell_type": "code",
   "source": [
    "import random\n",
    "\n",
    "import numpy as np\n",
    "\n",
    "from source.portfolio import Portfolio"
   ],
   "id": "272df6f8db7a0d60",
   "outputs": [],
   "execution_count": 1
  },
  {
   "metadata": {
    "ExecuteTime": {
     "end_time": "2024-06-16T21:17:24.498557Z",
     "start_time": "2024-06-16T21:17:24.496854Z"
    }
   },
   "cell_type": "code",
   "source": "random.seed(42)",
   "id": "9299fb4b4afedaf2",
   "outputs": [],
   "execution_count": 2
  },
  {
   "metadata": {},
   "cell_type": "markdown",
   "source": "### Initialize portfolio",
   "id": "2af2fd1807345e4b"
  },
  {
   "metadata": {
    "ExecuteTime": {
     "end_time": "2024-06-16T21:17:24.510659Z",
     "start_time": "2024-06-16T21:17:24.500042Z"
    }
   },
   "cell_type": "code",
   "source": [
    "portfolio = Portfolio(\n",
    "    start_date='2023-12-02',\n",
    "    investing_amounts={\n",
    "        'bonds': 10e6,  # 5 bonds\n",
    "        'stocks': 1e6,  # 10 stocks\n",
    "        'fx': 100e6,  # 2 currency pairs\n",
    "    },\n",
    "    max_relative_error=0.1,  # 10% deviation from target weight \n",
    ")"
   ],
   "id": "e93520da2d13538f",
   "outputs": [],
   "execution_count": 3
  },
  {
   "metadata": {
    "ExecuteTime": {
     "end_time": "2024-06-16T21:17:24.513389Z",
     "start_time": "2024-06-16T21:17:24.511306Z"
    }
   },
   "cell_type": "code",
   "source": "print(f'Total portfolio size: {portfolio.total_amount // 1e6} mln')",
   "id": "6664f97530463384",
   "outputs": [
    {
     "name": "stdout",
     "output_type": "stream",
     "text": [
      "Total portfolio size: 260.0 mln\n"
     ]
    }
   ],
   "execution_count": 4
  },
  {
   "metadata": {
    "ExecuteTime": {
     "end_time": "2024-06-16T21:17:24.517543Z",
     "start_time": "2024-06-16T21:17:24.513950Z"
    }
   },
   "cell_type": "code",
   "source": [
    "np.isclose(\n",
    "    portfolio.target_weights['bonds'] * 5\n",
    "    + portfolio.target_weights['stocks'] * 10\n",
    "    + portfolio.target_weights['fx'] * 2,\n",
    "    1\n",
    ")"
   ],
   "id": "5363913c94accea3",
   "outputs": [
    {
     "data": {
      "text/plain": [
       "True"
      ]
     },
     "execution_count": 5,
     "metadata": {},
     "output_type": "execute_result"
    }
   ],
   "execution_count": 5
  },
  {
   "metadata": {
    "ExecuteTime": {
     "end_time": "2024-06-16T21:17:24.520889Z",
     "start_time": "2024-06-16T21:17:24.518200Z"
    }
   },
   "cell_type": "code",
   "source": "portfolio.get_last_price('GAZP')",
   "id": "d54f0491ebcf1ae3",
   "outputs": [
    {
     "data": {
      "text/plain": [
       "162.61"
      ]
     },
     "execution_count": 6,
     "metadata": {},
     "output_type": "execute_result"
    }
   ],
   "execution_count": 6
  },
  {
   "metadata": {},
   "cell_type": "markdown",
   "source": "### Rebalance portfolio",
   "id": "3d9159a59d6bb54b"
  },
  {
   "metadata": {
    "ExecuteTime": {
     "end_time": "2024-06-16T21:17:24.523926Z",
     "start_time": "2024-06-16T21:17:24.521525Z"
    }
   },
   "cell_type": "code",
   "source": "portfolio.all_instruments",
   "id": "970f45866c007313",
   "outputs": [
    {
     "data": {
      "text/plain": [
       "{'bonds': {'SU26218RMFS6': 0,\n",
       "  'SU26221RMFS0': 0,\n",
       "  'SU26222RMFS8': 0,\n",
       "  'SU26224RMFS4': 0,\n",
       "  'SU26230RMFS1': 0},\n",
       " 'stocks': {'GAZP': 0,\n",
       "  'GMKN': 0,\n",
       "  'LKOH': 0,\n",
       "  'MAGN': 0,\n",
       "  'MGNT': 0,\n",
       "  'MOEX': 0,\n",
       "  'ROSN': 0,\n",
       "  'RUAL': 0,\n",
       "  'SBER': 0,\n",
       "  'VTBR': 0},\n",
       " 'fx': {'USD_RUB': 0, 'EUR_RUB': 0}}"
      ]
     },
     "execution_count": 7,
     "metadata": {},
     "output_type": "execute_result"
    }
   ],
   "execution_count": 7
  },
  {
   "metadata": {
    "ExecuteTime": {
     "end_time": "2024-06-16T21:17:24.527460Z",
     "start_time": "2024-06-16T21:17:24.524582Z"
    }
   },
   "cell_type": "code",
   "source": "portfolio.is_rebalancing_needed()",
   "id": "aa0e9f4e5bdaba51",
   "outputs": [
    {
     "data": {
      "text/plain": [
       "True"
      ]
     },
     "execution_count": 8,
     "metadata": {},
     "output_type": "execute_result"
    }
   ],
   "execution_count": 8
  },
  {
   "metadata": {
    "ExecuteTime": {
     "end_time": "2024-06-16T21:17:24.534591Z",
     "start_time": "2024-06-16T21:17:24.529367Z"
    }
   },
   "cell_type": "code",
   "source": "portfolio.rebalance_portfolio()",
   "id": "47a37ffd56ec75c7",
   "outputs": [],
   "execution_count": 9
  },
  {
   "metadata": {
    "ExecuteTime": {
     "end_time": "2024-06-16T21:17:24.537477Z",
     "start_time": "2024-06-16T21:17:24.535266Z"
    }
   },
   "cell_type": "code",
   "source": "portfolio.all_instruments",
   "id": "395def601f171dc9",
   "outputs": [
    {
     "data": {
      "text/plain": [
       "{'bonds': {'SU26218RMFS6': 1180,\n",
       "  'SU26221RMFS0': 1278,\n",
       "  'SU26222RMFS8': 1042,\n",
       "  'SU26224RMFS4': 1213,\n",
       "  'SU26230RMFS1': 1382},\n",
       " 'stocks': {'GAZP': 6149,\n",
       "  'GMKN': 6007,\n",
       "  'LKOH': 139,\n",
       "  'MAGN': 19790,\n",
       "  'MGNT': 156,\n",
       "  'MOEX': 5027,\n",
       "  'ROSN': 1738,\n",
       "  'RUAL': 27207,\n",
       "  'SBER': 3650,\n",
       "  'VTBR': 42354934},\n",
       " 'fx': {'USD_RUB': 1128898.79, 'EUR_RUB': 1032176.02}}"
      ]
     },
     "execution_count": 10,
     "metadata": {},
     "output_type": "execute_result"
    }
   ],
   "execution_count": 10
  },
  {
   "metadata": {},
   "cell_type": "markdown",
   "source": "### Predict fair value",
   "id": "a89075d751590965"
  },
  {
   "metadata": {
    "ExecuteTime": {
     "end_time": "2024-06-16T21:17:24.539241Z",
     "start_time": "2024-06-16T21:17:24.538175Z"
    }
   },
   "cell_type": "code",
   "source": "",
   "id": "7317612e4732181e",
   "outputs": [],
   "execution_count": 10
  }
 ],
 "metadata": {
  "kernelspec": {
   "display_name": "Python 3",
   "language": "python",
   "name": "python3"
  },
  "language_info": {
   "codemirror_mode": {
    "name": "ipython",
    "version": 2
   },
   "file_extension": ".py",
   "mimetype": "text/x-python",
   "name": "python",
   "nbconvert_exporter": "python",
   "pygments_lexer": "ipython2",
   "version": "2.7.6"
  }
 },
 "nbformat": 4,
 "nbformat_minor": 5
}
