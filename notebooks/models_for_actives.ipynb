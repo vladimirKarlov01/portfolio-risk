{
 "cells": [
  {
   "cell_type": "code",
   "execution_count": 1,
   "id": "43c836b3-7101-465e-bce9-408397272118",
   "metadata": {},
   "outputs": [],
   "source": [
    "import pandas as pd\n",
    "import numpy as np\n",
    "# from data import DATA_PATH\n",
    "# from notebooks.EDA_SARIMA import sarima_fit, find_last_acf_sign_lag, find_last_pacf_sign_lag\n",
    "# from notebooks.factor_simbaseline import simulation_function\n"
   ]
  },
  {
   "cell_type": "code",
   "execution_count": 7,
   "id": "18af88e1-24da-453e-973f-317339922549",
   "metadata": {},
   "outputs": [],
   "source": [
    "data = pd.read_csv('C:/Users/a.o.staroverova/Downloads/' + '/all_data.csv')\n",
    "data.drop(columns = ['Unnamed: 0'], inplace = True)\n",
    "# data.head()"
   ]
  },
  {
   "cell_type": "code",
   "execution_count": 6,
   "id": "b91dd66f-7d4f-44fd-b688-aab4906262e7",
   "metadata": {},
   "outputs": [],
   "source": [
    "all_factors_simulated = simulation_function() ## тут в столбцах насимулированные значения факторов, размерность "
   ]
  },
  {
   "cell_type": "code",
   "execution_count": 8,
   "id": "2ae16f8d-f02d-4b5a-8691-68425a397f57",
   "metadata": {},
   "outputs": [],
   "source": [
    "from sklearn.linear_model import LinearRegression, Lasso\n",
    "# 'EUR_RUB', 'USD_RUB'\n",
    "\n",
    "risk_factors = ['pca_cbd', 'aluminum', 'brent', 'cbr_key_rate', 'nickel', 'rtsi']\n",
    "actives_to_predict = ['SU26218RMFS6', 'SU26221RMFS0', 'SU26222RMFS8', 'SU26224RMFS4',\n",
    "       'SU26230RMFS1', 'GAZP', 'GMKN', 'LKOH', 'MAGN', 'MGNT', 'MOEX', 'ROSN',\n",
    "       'RUAL', 'SBER', 'VTBR']\n",
    "\n",
    "dict_active_factors = {}\n",
    "\n"
   ]
  },
  {
   "cell_type": "code",
   "execution_count": null,
   "id": "52ed4601-cf3c-4c7d-a579-3c66ee7bcf01",
   "metadata": {},
   "outputs": [],
   "source": [
    "def fit_regression(active):\n",
    "    X = data.loc[:, dict_active_factors[active]]\n",
    "    y = data[active]\n",
    "    lr = Lasso().fit(X, y)\n",
    "    return lr\n",
    "\n",
    "dict_active_model = {}\n",
    "for active in actives_to_predict:\n",
    "    dict_active_model[active] = fit_regression(active)\n",
    "\n",
    "def predict_simulated(active):\n",
    "    X = all_factors_simulated.loc[:, dict_active_factors[active]]\n",
    "    predictions = dict_active_model[active].predict(X)\n",
    "    return predictions"
   ]
  }
 ],
 "metadata": {
  "kernelspec": {
   "display_name": "Python 3 (ipykernel)",
   "language": "python",
   "name": "python3"
  },
  "language_info": {
   "codemirror_mode": {
    "name": "ipython",
    "version": 3
   },
   "file_extension": ".py",
   "mimetype": "text/x-python",
   "name": "python",
   "nbconvert_exporter": "python",
   "pygments_lexer": "ipython3",
   "version": "3.9.13"
  }
 },
 "nbformat": 4,
 "nbformat_minor": 5
}
