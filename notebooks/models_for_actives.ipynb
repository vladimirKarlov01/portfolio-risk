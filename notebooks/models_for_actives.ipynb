{
 "cells": [
  {
   "cell_type": "code",
   "id": "43c836b3-7101-465e-bce9-408397272118",
   "metadata": {
    "ExecuteTime": {
     "end_time": "2024-06-20T12:45:17.993214Z",
     "start_time": "2024-06-20T12:45:17.938338Z"
    }
   },
   "source": [
    "import pandas as pd\n",
    "import numpy as np\n",
    "from data import DATA_PATH\n",
    "from source.utils import sarima_fit, find_last_acf_sign_lag, find_last_pacf_sign_lag, select_risk_factors, calc_mutual_info\n",
    "# sarima_fit, find_last_acf_sign_lag, find_last_pacf_sign_lag\n",
    "# from notebooks.factor_simbaseline import simulation_function\n"
   ],
   "outputs": [
    {
     "ename": "ImportError",
     "evalue": "cannot import name 'select_risk_factors' from 'source.utils' (/Users/annastaroverova/DataspellProjects/portfolio-risk/source/utils.py)",
     "output_type": "error",
     "traceback": [
      "\u001B[0;31m---------------------------------------------------------------------------\u001B[0m",
      "\u001B[0;31mImportError\u001B[0m                               Traceback (most recent call last)",
      "Cell \u001B[0;32mIn[11], line 4\u001B[0m\n\u001B[1;32m      2\u001B[0m \u001B[38;5;28;01mimport\u001B[39;00m \u001B[38;5;21;01mnumpy\u001B[39;00m \u001B[38;5;28;01mas\u001B[39;00m \u001B[38;5;21;01mnp\u001B[39;00m\n\u001B[1;32m      3\u001B[0m \u001B[38;5;28;01mfrom\u001B[39;00m \u001B[38;5;21;01mdata\u001B[39;00m \u001B[38;5;28;01mimport\u001B[39;00m DATA_PATH\n\u001B[0;32m----> 4\u001B[0m \u001B[38;5;28;01mfrom\u001B[39;00m \u001B[38;5;21;01msource\u001B[39;00m\u001B[38;5;21;01m.\u001B[39;00m\u001B[38;5;21;01mutils\u001B[39;00m \u001B[38;5;28;01mimport\u001B[39;00m sarima_fit, find_last_acf_sign_lag, find_last_pacf_sign_lag, select_risk_factors, calc_mutual_info\n\u001B[1;32m      5\u001B[0m \u001B[38;5;66;03m# sarima_fit, find_last_acf_sign_lag, find_last_pacf_sign_lag\u001B[39;00m\n\u001B[1;32m      6\u001B[0m \u001B[38;5;66;03m# from notebooks.factor_simbaseline import simulation_function\u001B[39;00m\n",
      "\u001B[0;31mImportError\u001B[0m: cannot import name 'select_risk_factors' from 'source.utils' (/Users/annastaroverova/DataspellProjects/portfolio-risk/source/utils.py)"
     ]
    }
   ],
   "execution_count": 11
  },
  {
   "cell_type": "code",
   "id": "18af88e1-24da-453e-973f-317339922549",
   "metadata": {
    "ExecuteTime": {
     "end_time": "2024-06-20T12:39:30.459038Z",
     "start_time": "2024-06-20T12:39:30.420057Z"
    }
   },
   "source": [
    "data = pd.read_csv(DATA_PATH / 'all_data.csv')\n",
    "if 'Unnamed: 0' in data.columns:\n",
    "    data.drop(columns = ['Unnamed: 0'], inplace = True)\n",
    "# data.head()"
   ],
   "outputs": [],
   "execution_count": 8
  },
  {
   "cell_type": "code",
   "execution_count": 6,
   "id": "b91dd66f-7d4f-44fd-b688-aab4906262e7",
   "metadata": {},
   "outputs": [],
   "source": [
    "all_factors_simulated = simulation_function() ## тут в столбцах насимулированные значения факторов, размерность "
   ]
  },
  {
   "cell_type": "code",
   "id": "2ae16f8d-f02d-4b5a-8691-68425a397f57",
   "metadata": {
    "ExecuteTime": {
     "end_time": "2024-06-20T12:43:40.322503Z",
     "start_time": "2024-06-20T12:43:40.117842Z"
    }
   },
   "source": [
    "from sklearn.linear_model import LinearRegression, Lasso\n",
    "# 'EUR_RUB', 'USD_RUB'\n",
    "\n",
    "risk_factors = [\n",
    "'su26230_days_before_coupon', 'su26224_days_before_coupon',\n",
    "'su26222_days_before_coupon', 'su26221_days_before_coupon',\n",
    "'su26218_days_before_coupon', 'ecb_rate', 'aluminum', 'brent',\n",
    "'cbr_key_rate', 'eur_rub', 'moex_index', 'nickel', 'rtsi', 'usd_rub', 'pca_cbd' ]\n",
    "\n",
    "actives_to_predict = ['SU26218RMFS6', 'SU26221RMFS0', 'SU26222RMFS8', 'SU26224RMFS4',\n",
    "       'SU26230RMFS1', 'GAZP', 'GMKN', 'LKOH', 'MAGN', 'MGNT', 'MOEX', 'ROSN',\n",
    "       'RUAL', 'SBER', 'VTBR']\n",
    "\n",
    "dict_active_factors = {}\n",
    "\n",
    "for actives in actives_to_predict:\n",
    "    dict_active_factors[actives] = select_risk_factors(actives, risk_factors).columns\n",
    "\n",
    "dict_active_factors\n",
    "\n"
   ],
   "outputs": [
    {
     "ename": "NameError",
     "evalue": "name 'select_risk_factors' is not defined",
     "output_type": "error",
     "traceback": [
      "\u001B[0;31m---------------------------------------------------------------------------\u001B[0m",
      "\u001B[0;31mNameError\u001B[0m                                 Traceback (most recent call last)",
      "Cell \u001B[0;32mIn[9], line 17\u001B[0m\n\u001B[1;32m     14\u001B[0m dict_active_factors \u001B[38;5;241m=\u001B[39m {}\n\u001B[1;32m     16\u001B[0m \u001B[38;5;28;01mfor\u001B[39;00m actives \u001B[38;5;129;01min\u001B[39;00m actives_to_predict:\n\u001B[0;32m---> 17\u001B[0m     dict_active_factors[actives] \u001B[38;5;241m=\u001B[39m \u001B[43mselect_risk_factors\u001B[49m(actives, risk_factors)\u001B[38;5;241m.\u001B[39mcolumns\n\u001B[1;32m     19\u001B[0m dict_active_factors\n",
      "\u001B[0;31mNameError\u001B[0m: name 'select_risk_factors' is not defined"
     ]
    }
   ],
   "execution_count": 9
  },
  {
   "cell_type": "code",
   "execution_count": null,
   "id": "52ed4601-cf3c-4c7d-a579-3c66ee7bcf01",
   "metadata": {},
   "outputs": [],
   "source": [
    "def fit_regression(active):\n",
    "    X = data.loc[:, dict_active_factors[active]]\n",
    "    y = data[active]\n",
    "    lr = Lasso().fit(X, y)\n",
    "    return lr\n",
    "\n",
    "dict_active_model = {}\n",
    "for active in actives_to_predict:\n",
    "    dict_active_model[active] = fit_regression(active)\n",
    "\n",
    "def predict_simulated(active):\n",
    "    X = all_factors_simulated.loc[:, dict_active_factors[active]]\n",
    "    predictions = dict_active_model[active].predict(X)\n",
    "    return predictions"
   ]
  }
 ],
 "metadata": {
  "kernelspec": {
   "display_name": "Python 3 (ipykernel)",
   "language": "python",
   "name": "python3"
  },
  "language_info": {
   "codemirror_mode": {
    "name": "ipython",
    "version": 3
   },
   "file_extension": ".py",
   "mimetype": "text/x-python",
   "name": "python",
   "nbconvert_exporter": "python",
   "pygments_lexer": "ipython3",
   "version": "3.9.13"
  }
 },
 "nbformat": 4,
 "nbformat_minor": 5
}
