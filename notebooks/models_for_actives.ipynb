{
 "cells": [
  {
   "cell_type": "code",
   "id": "43c836b3-7101-465e-bce9-408397272118",
   "metadata": {
    "ExecuteTime": {
     "end_time": "2024-06-20T13:30:23.857904Z",
     "start_time": "2024-06-20T13:30:20.925335Z"
    }
   },
   "source": [
    "import pandas as pd\n",
    "import numpy as np\n",
    "from data import DATA_PATH\n",
    "from sklearn.feature_selection import mutual_info_regression\n",
    "from source.utils import sarima_fit, find_last_acf_sign_lag, find_last_pacf_sign_lag\n",
    "def calc_mutual_info(y, X):\n",
    "    \"\"\"\n",
    "    Selects top N features by Mutual Information with target\n",
    "    \"\"\"\n",
    "    # determine the mutual information\n",
    "    mutual_info = mutual_info_regression(X.fillna(0), y)\n",
    "    mutual_info = pd.Series(mutual_info)\n",
    "    mutual_info.index = X.columns\n",
    "    return list(mutual_info.sort_values(ascending=False).index)\n",
    "\n",
    "\n",
    "def select_risk_factors(all_data, factor, risk_factors_list, top_factors=4):\n",
    "    \"\"\"\n",
    "    Функция принимает на вход колонку-название актива и список его возможных риск-факторов из словаря\n",
    "    Отсеиваются факторы с корреляцией между фактором и таргетом < 0.05\n",
    "    Смотрится взаимная корреляция факторов, если она превышает 0.9, то оставляется один фактор с наибольшей MI с таргетом\n",
    "    \"\"\"\n",
    "    target = all_data[factor].values\n",
    "    risk_factors = all_data[risk_factors_list]\n",
    "    drop_list_idx = []\n",
    "    corr_list = []\n",
    "    #считаем обычную корреляцию с таргетом\n",
    "    for i in range(len(risk_factors.columns)):\n",
    "        corr_with_target = np.corrcoef(x=risk_factors[risk_factors_list[i]].values, y=target)[0][1]\n",
    "        corr_list.append(corr_with_target)\n",
    "        if corr_with_target < 0.05:  #дропаем, если меньше 0.05\n",
    "            drop_list_idx.append(i)\n",
    "\n",
    "    #ранжируем фичи по MI с таргетом\n",
    "    top_mutual_information_list = calc_mutual_info(target, risk_factors)\n",
    "\n",
    "    #смотрим взаимную корреляцию фичей\n",
    "    mutual_correlation = np.corrcoef(x=risk_factors, rowvar=False)\n",
    "    a = np.where(mutual_correlation >= 0.9)[0]\n",
    "    b = np.where(mutual_correlation >= 0.9)[1]\n",
    "    correlated_features = []\n",
    "    for i in range(len(a)):\n",
    "        if a[i] != b[i]:\n",
    "            correlated_features.append(tuple(sorted([a[i], b[i]])))\n",
    "    correlated_features = set(correlated_features)  #тут сет пар индексов скоррелированных фичей\n",
    "\n",
    "    for pair in correlated_features:  #смотрим, какая из фичей из пары на каком месте в ранжированном списке MI\n",
    "        mi_1 = np.where(np.array(top_mutual_information_list) == risk_factors.columns[pair[0]])\n",
    "        mi_2 = np.where(np.array(top_mutual_information_list) == risk_factors.columns[pair[1]])\n",
    "\n",
    "        if mi_1 > mi_2:  #если первый признак из пары менее связан с таргетом (дальше от начала списка MI)\n",
    "            drop_list_idx.append(pair[0])  #дропаем первый признак\n",
    "        else:\n",
    "            drop_list_idx.append(pair[1])\n",
    "\n",
    "    drop_list_names = list(risk_factors[risk_factors.columns[drop_list_idx]].columns)\n",
    "    print(drop_list_names)\n",
    "    return all_data[[factor] + risk_factors_list].drop(drop_list_names, axis=1)\n",
    "# sarima_fit, find_last_acf_sign_lag, find_last_pacf_sign_lag\n",
    "# from notebooks.factor_simbaseline import simulation_function\n"
   ],
   "outputs": [],
   "execution_count": 2
  },
  {
   "cell_type": "code",
   "id": "18af88e1-24da-453e-973f-317339922549",
   "metadata": {
    "ExecuteTime": {
     "end_time": "2024-06-20T13:30:24.687053Z",
     "start_time": "2024-06-20T13:30:24.668125Z"
    }
   },
   "source": [
    "data = pd.read_csv(DATA_PATH / 'all_data.csv')\n",
    "if 'Unnamed: 0' in data.columns:\n",
    "    data.drop(columns = ['Unnamed: 0'], inplace = True)\n",
    "# data.head()"
   ],
   "outputs": [],
   "execution_count": 3
  },
  {
   "cell_type": "code",
   "execution_count": 6,
   "id": "b91dd66f-7d4f-44fd-b688-aab4906262e7",
   "metadata": {},
   "outputs": [],
   "source": "# all_factors_simulated = simulation_function() ## тут в столбцах насимулированные значения факторов, размерность "
  },
  {
   "cell_type": "code",
   "id": "2ae16f8d-f02d-4b5a-8691-68425a397f57",
   "metadata": {
    "ExecuteTime": {
     "end_time": "2024-06-20T13:30:53.773137Z",
     "start_time": "2024-06-20T13:30:53.125400Z"
    }
   },
   "source": [
    "from sklearn.linear_model import LinearRegression, Lasso\n",
    "# 'EUR_RUB', 'USD_RUB'\n",
    "\n",
    "risk_factors = [\n",
    "    'su26230_days_before_coupon', 'su26224_days_before_coupon',\n",
    "    'su26222_days_before_coupon', 'su26221_days_before_coupon',\n",
    "    'su26218_days_before_coupon', 'ecb_rate', 'aluminum', 'brent',\n",
    "    'cbr_key_rate', 'eur_rub', 'moex_index', 'nickel', 'rtsi', 'usd_rub', 'pca_cbd' ]\n",
    "\n",
    "actives_to_predict = ['gazp', 'gmkn',\n",
    "                      'lkoh', 'magn', 'mgnt', 'moex', 'rosn', 'rual', 'sber', 'vtbr',\n",
    "                      'su26218', 'su26221', 'su26222', 'su26224', 'su26230']\n",
    "\n",
    "dict_active_factors = {}\n",
    "\n",
    "for actives in actives_to_predict:\n",
    "    dict_active_factors[actives] = select_risk_factors(data, actives, risk_factors_list = risk_factors, top_factors=4).columns\n",
    "\n",
    "# dict_active_factors\n",
    "\n",
    "\n"
   ],
   "outputs": [
    {
     "name": "stdout",
     "output_type": "stream",
     "text": [
      "['su26230_days_before_coupon', 'su26222_days_before_coupon', 'su26221_days_before_coupon', 'su26218_days_before_coupon', 'ecb_rate', 'cbr_key_rate', 'eur_rub', 'usd_rub', 'pca_cbd', 'su26221_days_before_coupon', 'usd_rub']\n",
      "['su26230_days_before_coupon', 'su26224_days_before_coupon', 'su26221_days_before_coupon', 'su26218_days_before_coupon', 'ecb_rate', 'brent', 'cbr_key_rate', 'nickel', 'usd_rub', 'pca_cbd', 'su26221_days_before_coupon', 'eur_rub']\n",
      "['su26230_days_before_coupon', 'su26224_days_before_coupon', 'su26222_days_before_coupon', 'su26221_days_before_coupon', 'su26218_days_before_coupon', 'brent', 'nickel', 'su26221_days_before_coupon', 'usd_rub']\n",
      "['su26230_days_before_coupon', 'su26224_days_before_coupon', 'su26222_days_before_coupon', 'su26221_days_before_coupon', 'su26218_days_before_coupon', 'ecb_rate', 'brent', 'cbr_key_rate', 'nickel', 'pca_cbd', 'su26221_days_before_coupon', 'usd_rub']\n",
      "['su26224_days_before_coupon', 'su26230_days_before_coupon', 'usd_rub']\n",
      "['su26230_days_before_coupon', 'su26224_days_before_coupon', 'su26222_days_before_coupon', 'su26221_days_before_coupon', 'su26218_days_before_coupon', 'aluminum', 'brent', 'cbr_key_rate', 'nickel', 'pca_cbd', 'su26230_days_before_coupon', 'usd_rub']\n",
      "['su26230_days_before_coupon', 'su26224_days_before_coupon', 'su26221_days_before_coupon', 'nickel', 'su26230_days_before_coupon', 'usd_rub']\n",
      "['su26230_days_before_coupon', 'su26224_days_before_coupon', 'su26222_days_before_coupon', 'su26221_days_before_coupon', 'ecb_rate', 'eur_rub', 'usd_rub', 'su26221_days_before_coupon', 'usd_rub']\n",
      "['su26230_days_before_coupon', 'su26224_days_before_coupon', 'su26222_days_before_coupon', 'su26221_days_before_coupon', 'su26218_days_before_coupon', 'ecb_rate', 'aluminum', 'brent', 'cbr_key_rate', 'nickel', 'pca_cbd', 'su26230_days_before_coupon', 'usd_rub']\n",
      "['su26230_days_before_coupon', 'su26224_days_before_coupon', 'su26222_days_before_coupon', 'su26221_days_before_coupon', 'su26218_days_before_coupon', 'ecb_rate', 'aluminum', 'brent', 'cbr_key_rate', 'nickel', 'usd_rub', 'pca_cbd', 'su26230_days_before_coupon', 'eur_rub']\n",
      "['su26230_days_before_coupon', 'su26222_days_before_coupon', 'su26221_days_before_coupon', 'su26218_days_before_coupon', 'ecb_rate', 'aluminum', 'brent', 'cbr_key_rate', 'eur_rub', 'nickel', 'usd_rub', 'pca_cbd', 'su26221_days_before_coupon', 'usd_rub']\n",
      "['su26230_days_before_coupon', 'su26222_days_before_coupon', 'su26221_days_before_coupon', 'su26218_days_before_coupon', 'ecb_rate', 'aluminum', 'brent', 'cbr_key_rate', 'eur_rub', 'nickel', 'usd_rub', 'pca_cbd', 'su26230_days_before_coupon', 'usd_rub']\n",
      "['su26230_days_before_coupon', 'su26221_days_before_coupon', 'su26218_days_before_coupon', 'ecb_rate', 'aluminum', 'brent', 'cbr_key_rate', 'eur_rub', 'nickel', 'usd_rub', 'pca_cbd', 'su26230_days_before_coupon', 'usd_rub']\n",
      "['su26230_days_before_coupon', 'su26222_days_before_coupon', 'su26221_days_before_coupon', 'su26218_days_before_coupon', 'ecb_rate', 'aluminum', 'brent', 'cbr_key_rate', 'eur_rub', 'nickel', 'usd_rub', 'pca_cbd', 'su26230_days_before_coupon', 'usd_rub']\n",
      "['su26230_days_before_coupon', 'su26222_days_before_coupon', 'su26221_days_before_coupon', 'su26218_days_before_coupon', 'ecb_rate', 'aluminum', 'brent', 'cbr_key_rate', 'eur_rub', 'nickel', 'usd_rub', 'pca_cbd', 'su26221_days_before_coupon', 'usd_rub']\n"
     ]
    }
   ],
   "execution_count": 6
  },
  {
   "metadata": {
    "ExecuteTime": {
     "end_time": "2024-06-20T13:30:56.652453Z",
     "start_time": "2024-06-20T13:30:56.645552Z"
    }
   },
   "cell_type": "code",
   "source": "dict_active_factors",
   "id": "f5d3786c6372ace7",
   "outputs": [
    {
     "data": {
      "text/plain": [
       "{'gazp': Index(['gazp', 'su26224_days_before_coupon', 'aluminum', 'brent', 'moex_index',\n",
       "        'nickel', 'rtsi'],\n",
       "       dtype='object'),\n",
       " 'gmkn': Index(['gmkn', 'su26222_days_before_coupon', 'aluminum', 'moex_index', 'rtsi'], dtype='object'),\n",
       " 'lkoh': Index(['lkoh', 'ecb_rate', 'aluminum', 'cbr_key_rate', 'eur_rub', 'moex_index',\n",
       "        'rtsi', 'pca_cbd'],\n",
       "       dtype='object'),\n",
       " 'magn': Index(['magn', 'aluminum', 'eur_rub', 'moex_index', 'rtsi'], dtype='object'),\n",
       " 'mgnt': Index(['mgnt', 'su26222_days_before_coupon', 'su26221_days_before_coupon',\n",
       "        'su26218_days_before_coupon', 'ecb_rate', 'aluminum', 'brent',\n",
       "        'cbr_key_rate', 'eur_rub', 'moex_index', 'nickel', 'rtsi', 'pca_cbd'],\n",
       "       dtype='object'),\n",
       " 'moex': Index(['moex', 'ecb_rate', 'eur_rub', 'moex_index', 'rtsi'], dtype='object'),\n",
       " 'rosn': Index(['rosn', 'su26222_days_before_coupon', 'su26218_days_before_coupon',\n",
       "        'ecb_rate', 'aluminum', 'brent', 'cbr_key_rate', 'eur_rub',\n",
       "        'moex_index', 'rtsi', 'pca_cbd'],\n",
       "       dtype='object'),\n",
       " 'rual': Index(['rual', 'su26218_days_before_coupon', 'aluminum', 'brent',\n",
       "        'cbr_key_rate', 'moex_index', 'nickel', 'rtsi', 'pca_cbd'],\n",
       "       dtype='object'),\n",
       " 'sber': Index(['sber', 'eur_rub', 'moex_index', 'rtsi'], dtype='object'),\n",
       " 'vtbr': Index(['vtbr', 'moex_index', 'rtsi'], dtype='object'),\n",
       " 'su26218': Index(['su26218', 'su26224_days_before_coupon', 'moex_index', 'rtsi'], dtype='object'),\n",
       " 'su26221': Index(['su26221', 'su26224_days_before_coupon', 'moex_index', 'rtsi'], dtype='object'),\n",
       " 'su26222': Index(['su26222', 'su26224_days_before_coupon', 'su26222_days_before_coupon',\n",
       "        'moex_index', 'rtsi'],\n",
       "       dtype='object'),\n",
       " 'su26224': Index(['su26224', 'su26224_days_before_coupon', 'moex_index', 'rtsi'], dtype='object'),\n",
       " 'su26230': Index(['su26230', 'su26224_days_before_coupon', 'moex_index', 'rtsi'], dtype='object')}"
      ]
     },
     "execution_count": 7,
     "metadata": {},
     "output_type": "execute_result"
    }
   ],
   "execution_count": 7
  },
  {
   "cell_type": "code",
   "id": "52ed4601-cf3c-4c7d-a579-3c66ee7bcf01",
   "metadata": {
    "ExecuteTime": {
     "end_time": "2024-06-20T13:31:14.580796Z",
     "start_time": "2024-06-20T13:31:14.544486Z"
    }
   },
   "source": [
    "def fit_regression(active):\n",
    "    X = data.loc[:, dict_active_factors[active]]\n",
    "    y = data[active]\n",
    "    lr = Lasso().fit(X, y)\n",
    "    return lr\n",
    "\n",
    "dict_active_model = {}\n",
    "for active in actives_to_predict:\n",
    "    dict_active_model[active] = fit_regression(active)\n",
    "\n",
    "def predict_simulated(active):\n",
    "    X = all_factors_simulated.loc[:, dict_active_factors[active]]\n",
    "    predictions = dict_active_model[active].predict(X)\n",
    "    return predictions"
   ],
   "outputs": [],
   "execution_count": 8
  },
  {
   "metadata": {
    "ExecuteTime": {
     "end_time": "2024-06-20T13:31:16.366281Z",
     "start_time": "2024-06-20T13:31:16.360433Z"
    }
   },
   "cell_type": "code",
   "source": "dict_active_model",
   "id": "9376361b0667aeb1",
   "outputs": [
    {
     "data": {
      "text/plain": [
       "{'gazp': Lasso(),\n",
       " 'gmkn': Lasso(),\n",
       " 'lkoh': Lasso(),\n",
       " 'magn': Lasso(),\n",
       " 'mgnt': Lasso(),\n",
       " 'moex': Lasso(),\n",
       " 'rosn': Lasso(),\n",
       " 'rual': Lasso(),\n",
       " 'sber': Lasso(),\n",
       " 'vtbr': Lasso(),\n",
       " 'su26218': Lasso(),\n",
       " 'su26221': Lasso(),\n",
       " 'su26222': Lasso(),\n",
       " 'su26224': Lasso(),\n",
       " 'su26230': Lasso()}"
      ]
     },
     "execution_count": 9,
     "metadata": {},
     "output_type": "execute_result"
    }
   ],
   "execution_count": 9
  },
  {
   "metadata": {},
   "cell_type": "code",
   "outputs": [],
   "execution_count": null,
   "source": "",
   "id": "84eef4b807a8dee6"
  }
 ],
 "metadata": {
  "kernelspec": {
   "display_name": "Python 3 (ipykernel)",
   "language": "python",
   "name": "python3"
  },
  "language_info": {
   "codemirror_mode": {
    "name": "ipython",
    "version": 3
   },
   "file_extension": ".py",
   "mimetype": "text/x-python",
   "name": "python",
   "nbconvert_exporter": "python",
   "pygments_lexer": "ipython3",
   "version": "3.9.13"
  }
 },
 "nbformat": 4,
 "nbformat_minor": 5
}
