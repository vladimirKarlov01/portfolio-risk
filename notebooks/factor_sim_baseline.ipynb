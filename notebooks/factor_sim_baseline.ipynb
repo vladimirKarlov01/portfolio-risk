{
 "cells": [
  {
   "cell_type": "code",
   "execution_count": 259,
   "id": "fdbc644a-e17f-4d0e-935e-8eb32b6a5dad",
   "metadata": {},
   "outputs": [],
   "source": [
    "import pandas as pd\n",
    "from sklearn import metrics\n",
    "import numpy as np\n",
    "import matplotlib.pyplot as plt"
   ]
  },
  {
   "cell_type": "code",
   "execution_count": 2,
   "id": "f38c5161-57c6-43d1-9498-c2593524b187",
   "metadata": {},
   "outputs": [],
   "source": [
    "all_data = pd.read_csv('../data/all_data.csv').drop('Unnamed: 0', axis=1)"
   ]
  },
  {
   "cell_type": "code",
   "execution_count": 5,
   "id": "a82eb66a-d41c-4b0d-a902-17fc79116f47",
   "metadata": {},
   "outputs": [],
   "source": [
    "from statsmodels.tsa.arima.model import ARIMA"
   ]
  },
  {
   "cell_type": "code",
   "execution_count": 6,
   "id": "2e052ca9-3994-4751-b687-99fbe1c0b307",
   "metadata": {},
   "outputs": [],
   "source": [
    "from statsmodels.graphics.tsaplots import plot_acf, plot_pacf\n",
    "from statsmodels.tsa.stattools import adfuller, acf, pacf\n",
    "from statsmodels.tsa.arima.model import ARIMA"
   ]
  },
  {
   "cell_type": "code",
   "execution_count": 492,
   "id": "5c56f46a-404d-4974-bfb8-535547d61e1b",
   "metadata": {},
   "outputs": [],
   "source": [
    "# all_data.moex_index"
   ]
  },
  {
   "cell_type": "code",
   "execution_count": 346,
   "id": "2cc1681a-0694-49a0-a9cc-533c928c7656",
   "metadata": {},
   "outputs": [],
   "source": [
    "# plot_pacf(all_data.eur_rub.diff().dropna());"
   ]
  },
  {
   "cell_type": "code",
   "execution_count": 347,
   "id": "c9761d05-801c-48bc-bd78-27402c19bcb1",
   "metadata": {},
   "outputs": [],
   "source": [
    "# plot_acf(all_data.eur_rub.diff().dropna());"
   ]
  },
  {
   "cell_type": "code",
   "execution_count": 417,
   "id": "65b98a5c-b75d-47fb-8bba-c6cde6e664e4",
   "metadata": {},
   "outputs": [],
   "source": [
    "# plot_acf(all_data.nickel.diff().dropna());"
   ]
  },
  {
   "cell_type": "code",
   "execution_count": 493,
   "id": "d0c731f3-1bfd-4470-8d06-000194f8f750",
   "metadata": {},
   "outputs": [],
   "source": [
    "# pacf(all_data.nickel.diff().dropna())[22]"
   ]
  },
  {
   "cell_type": "code",
   "execution_count": 494,
   "id": "171630f8-a3fa-49cb-abb2-9c4758b1a0dc",
   "metadata": {},
   "outputs": [],
   "source": [
    "# nickel_model = "
   ]
  },
  {
   "cell_type": "code",
   "execution_count": 495,
   "id": "dcdd34f4-35da-46c2-adc0-9c852dd31609",
   "metadata": {},
   "outputs": [],
   "source": [
    "# forecast = model.get_forecast(steps=3)"
   ]
  },
  {
   "cell_type": "code",
   "execution_count": 496,
   "id": "0f2e74d6-da00-4978-b776-c77b195682d9",
   "metadata": {},
   "outputs": [],
   "source": [
    "# all_data.eur_rub.tail()"
   ]
  },
  {
   "cell_type": "code",
   "execution_count": 514,
   "id": "1dca1e42-d3c1-4131-a31c-ee201c1ec067",
   "metadata": {},
   "outputs": [],
   "source": [
    "model = sm.tsa.SARIMAX(data.eur_rub, order=(1,1,1), trend='c').fit(disp=False)"
   ]
  },
  {
   "cell_type": "code",
   "execution_count": 498,
   "id": "63ced58f-0e16-4081-87b2-5e5bbdd6a408",
   "metadata": {},
   "outputs": [],
   "source": [
    "model.simulate(nsimulations=3,anchor=889)"
   ]
  },
  {
   "cell_type": "code",
   "execution_count": 518,
   "id": "d0fb8bd9-6d3b-4d35-a544-ba5800173046",
   "metadata": {},
   "outputs": [],
   "source": [
    "forecast = model.get_forecast(steps=1)"
   ]
  },
  {
   "cell_type": "code",
   "execution_count": 519,
   "id": "ff20fe85-29c3-478a-8923-70a68e4f86c9",
   "metadata": {},
   "outputs": [
    {
     "data": {
      "text/plain": [
       "<statsmodels.tsa.statespace.mlemodel.PredictionResultsWrapper at 0x2c0a71570>"
      ]
     },
     "execution_count": 519,
     "metadata": {},
     "output_type": "execute_result"
    }
   ],
   "source": [
    "forecast."
   ]
  },
  {
   "cell_type": "markdown",
   "id": "ef60e655-ed98-4e1e-ac93-b44fa7c52b28",
   "metadata": {},
   "source": [
    "# Code"
   ]
  },
  {
   "cell_type": "code",
   "execution_count": 297,
   "id": "de07efac-07eb-4737-b639-f43b0474a666",
   "metadata": {},
   "outputs": [],
   "source": [
    "def calculate_posterior_cov(\n",
    "    factor_list: list=['factor_1', 'factor_2'],\n",
    "    prior_cov: pd.DataFrame=pd.DataFrame(\n",
    "        {'factor_1': [1, 1.1], 'factor_2': [1.1, 2]},\n",
    "        index=['factor_1', 'factor_2']\n",
    "    ),\n",
    "    est_var=[1.1, 3],\n",
    "):\n",
    "    \"\"\"\n",
    "    склеиваем оценки дисперсий факторов и их ковариации\n",
    "    \"\"\"\n",
    "    assert list(prior_cov.columns)==list(prior_cov.index), 'unexpected corr matrix index'\n",
    "\n",
    "    LEN = len(factor_list)\n",
    "\n",
    "    # создаем матрицу и добавляем оценки дисперсий факторов \n",
    "    res_cov = np.zeros(shape=(LEN, LEN)) + np.diag(est_var)\n",
    "\n",
    "    # убираем лишнее и отсортировываем матрицу\n",
    "    prior_cov = prior_cov.loc[factor_list, factor_list].to_numpy()\n",
    "\n",
    "    # оставляем только ковариации\n",
    "    only_cov = prior_cov - np.diag(np.diagonal(prior_cov))\n",
    "\n",
    "    return res_cov + only_cov"
   ]
  },
  {
   "cell_type": "code",
   "execution_count": 414,
   "id": "78e78923-8a54-4c31-bf07-13c8793052ec",
   "metadata": {},
   "outputs": [],
   "source": [
    "import scipy.stats as sps\n",
    "\n",
    "def sample_multivariate_normal(\n",
    "    factor_list: list=['factor_1', 'factor_2'],\n",
    "    prior_cov: pd.DataFrame=pd.DataFrame(\n",
    "        {'factor_1': [1, 1.1], 'factor_2': [1.1, 2]},\n",
    "        index=['factor_1', 'factor_2']\n",
    "    ),\n",
    "    est_var=[1.1, 3],\n",
    "    est_mean: list=[10, 15],\n",
    "    size=100,\n",
    "    return_array=True,\n",
    "):\n",
    "    \"\"\"\n",
    "    В функцию подаем имена риск-факторов, средние и дисперсии в одном порядке!\n",
    "    \"\"\"\n",
    "    posterior_cov = calculate_posterior_cov(factor_list, prior_cov, est_var)\n",
    "    \n",
    "    sample = sps.multivariate_normal(\n",
    "        mean=est_mean,\n",
    "        cov=posterior_cov,\n",
    "    ).rvs(size=size)\n",
    "\n",
    "    return sample if return_array else pd.DataFrame(sample, factor_list)"
   ]
  },
  {
   "cell_type": "code",
   "execution_count": 662,
   "id": "087c2ebc-4536-4c75-9f4c-5afa49b62170",
   "metadata": {},
   "outputs": [],
   "source": [
    "import math\n",
    "\n",
    "def calculate_simulation_probability(\n",
    "    factor_list: list,\n",
    "    series_list: List[np.array],\n",
    "    prior_cov: pd.DataFrame,\n",
    "    est_var: List[np.array],\n",
    "    est_mean: List[np.array],\n",
    "    logging=False,\n",
    "    logreturn=True,\n",
    "):  \n",
    "    \"\"\"\n",
    "    Returns smth similar to Log Likelihood s. t. Multivariate distribution\n",
    "    using models individual forecasts and historical covariances\n",
    "    \"\"\"\n",
    "    \n",
    "    assert len(factor_list) == len(series_list), 'check number of factors'\n",
    "    assert len(set(len(i) for array in series_list)) == 1, 'check num of days in provided series'\n",
    "\n",
    "    prior_cov = prior_cov.loc[factor_list, factor_list]\n",
    "    \n",
    "    series_matrix = np.array(series_list).T\n",
    "    est_var_matrix = np.array(est_var).T\n",
    "    est_mean_matrix = np.array(est_mean).T\n",
    "\n",
    "    LENGTH = series_matrix.shape[0]\n",
    "    prob_list = [-1] * LENGTH\n",
    "    \n",
    "    for step in range(LENGTH):\n",
    "\n",
    "        posterior_cov = calculate_posterior_cov(\n",
    "            factor_list,\n",
    "            prior_cov,\n",
    "            est_var_matrix[step, :]\n",
    "        )\n",
    "\n",
    "        dist = sps.multivariate_normal(\n",
    "            mean=est_mean_matrix[step, :],\n",
    "            cov=posterior_cov\n",
    "        )\n",
    "\n",
    "        prob_list[step] = dist.pdf(series_matrix[step, :])\n",
    "\n",
    "    if logging:\n",
    "        print(prob_list)\n",
    "        \n",
    "    return np.sum(np.log(prob_list)) if logreturn else np.prod(prob_list)"
   ]
  },
  {
   "cell_type": "code",
   "execution_count": 579,
   "id": "25a12b2d-b2e4-4828-82b3-8f7e5dcaada0",
   "metadata": {},
   "outputs": [],
   "source": [
    "from itertools import product\n",
    "import warnings\n",
    "from tqdm import tqdm\n",
    "\n",
    "def fit_best_sarima_model(\n",
    "    series, \n",
    "    seasonal = 0,\n",
    "    ps = range(1, 3),\n",
    "    d = [0, 1],\n",
    "    qs = range(0, 3),\n",
    "    Ps = range(0, 2),\n",
    "    D= [0, 1],\n",
    "    Qs = range(0, 2),\n",
    "):\n",
    "    grid = [ps, d, qs]\n",
    "\n",
    "    if seasonal:\n",
    "        grid += [Ps, D, Qs]\n",
    "    \n",
    "    parameters_list = list(product(*grid))\n",
    "    results = []\n",
    "    best_aic = float(\"inf\")\n",
    "    warnings.filterwarnings('ignore')\n",
    "\n",
    "    \n",
    "    for param in parameters_list:\n",
    "        #try except нужен, потому что на некоторых наборах параметров модель не обучается\n",
    "        order_list = (*param[:3],)\n",
    "        seasonal_list = (*param[3:7],) if seasonal else (0, 0, 0, 0)\n",
    "        \n",
    "        try:\n",
    "            model_sm = sm.tsa.SARIMAX(\n",
    "                series,\n",
    "                order=order_list, \n",
    "                seasonal_order=seasonal_list,\n",
    "            ).fit(disp=-1)\n",
    "            \n",
    "        #выводим параметры, на которых модель не обучается и переходим к следующему набору\n",
    "        except ValueError:\n",
    "            print('wrong parameters:', param)\n",
    "            continue\n",
    "        aic = model_sm.aic\n",
    "        \n",
    "        #сохраняем лучшую модель, aic, параметры\n",
    "        if aic < best_aic:\n",
    "            best_model = model_sm\n",
    "            best_aic = aic\n",
    "            best_param = param\n",
    "            \n",
    "        results.append([param, model_sm.aic])\n",
    "    \n",
    "    return best_model, best_param"
   ]
  },
  {
   "cell_type": "markdown",
   "id": "836cd0f4-81c1-42b7-a59c-4b70550b7b61",
   "metadata": {},
   "source": [
    "# Lets check"
   ]
  },
  {
   "cell_type": "code",
   "execution_count": 445,
   "id": "5fce4d15-54c1-46ec-b4b2-a9a3038c08f2",
   "metadata": {},
   "outputs": [],
   "source": [
    "data = all_data.set_index('date')"
   ]
  },
  {
   "cell_type": "code",
   "execution_count": 488,
   "id": "fd5a8619-95c3-4c67-8017-619e9cae37d5",
   "metadata": {},
   "outputs": [],
   "source": [
    "train = data[data.index < '2023-12-01']"
   ]
  },
  {
   "cell_type": "code",
   "execution_count": 447,
   "id": "df192848-b1eb-4e6a-b999-12a4f03c364f",
   "metadata": {},
   "outputs": [],
   "source": [
    "factor_list = ['aluminum', 'brent', 'eur_rub']"
   ]
  },
  {
   "cell_type": "code",
   "execution_count": 504,
   "id": "f1102334-55d0-4090-96a2-e7e262598282",
   "metadata": {
    "scrolled": true
   },
   "outputs": [],
   "source": [
    "cov_matrix = train.corr()"
   ]
  },
  {
   "cell_type": "code",
   "execution_count": 580,
   "id": "d407958d-c1b2-4f67-91a7-fede5780a86e",
   "metadata": {},
   "outputs": [
    {
     "name": "stderr",
     "output_type": "stream",
     "text": [
      "100%|███████████████████████████████████████████████████████████████████████████████████████████████████████████████████████████████████████████████████████████| 3/3 [00:01<00:00,  1.69it/s]\n"
     ]
    }
   ],
   "source": [
    "model_dict = {}\n",
    "param_dict = {}\n",
    "for f in tqdm(factor_list):\n",
    "\n",
    "    model_dict[f], param_dict[f] = fit_best_sarima_model(train[f])"
   ]
  },
  {
   "cell_type": "code",
   "execution_count": 581,
   "id": "8305185a-d422-4d18-a783-81e9bc9c703b",
   "metadata": {},
   "outputs": [
    {
     "data": {
      "text/plain": [
       "{'aluminum': (2, 1, 2), 'brent': (2, 1, 2), 'eur_rub': (1, 1, 1)}"
      ]
     },
     "execution_count": 581,
     "metadata": {},
     "output_type": "execute_result"
    }
   ],
   "source": [
    "param_dict"
   ]
  },
  {
   "cell_type": "markdown",
   "id": "ba4425cc-6b0e-4a7b-8227-93df8d84c32b",
   "metadata": {},
   "source": [
    "## 1 step"
   ]
  },
  {
   "cell_type": "code",
   "execution_count": 544,
   "id": "4d918ad8-d24f-4f59-8af7-479f74e0c106",
   "metadata": {},
   "outputs": [],
   "source": [
    "one_step_means = []\n",
    "one_step_var = []\n",
    "\n",
    "for name in factor_list:\n",
    "\n",
    "    pred = model_dict[name].get_forecast(steps=1)\n",
    "\n",
    "    one_step_means.append(pred.predicted_mean.values[0])\n",
    "    one_step_var.append(pred.var_pred_mean.values[0])"
   ]
  },
  {
   "cell_type": "code",
   "execution_count": 574,
   "id": "89aaf7c3-4a63-46cc-8146-bee96e906c54",
   "metadata": {},
   "outputs": [
    {
     "data": {
      "text/plain": [
       "array([2198.34883185,   80.65012768,   97.76141347])"
      ]
     },
     "execution_count": 574,
     "metadata": {},
     "output_type": "execute_result"
    }
   ],
   "source": [
    "sample = sample_multivariate_normal(\n",
    "    factor_list=factor_list,\n",
    "    prior_cov=cov_matrix,\n",
    "    est_mean=one_step_means,\n",
    "    est_var=one_step_var,size=5000        \n",
    ")\n",
    "\n",
    "sample.mean(axis=0)"
   ]
  },
  {
   "cell_type": "code",
   "execution_count": 575,
   "id": "5e3df9c3-e7f7-481f-b569-e8336adea996",
   "metadata": {},
   "outputs": [
    {
     "data": {
      "text/plain": [
       "aluminum    2209.0000\n",
       "brent         78.8800\n",
       "eur_rub       96.8827\n",
       "Name: 2023-12-01, dtype: float64"
      ]
     },
     "execution_count": 575,
     "metadata": {},
     "output_type": "execute_result"
    }
   ],
   "source": [
    "data[factor_list].loc['2023-12-01']"
   ]
  },
  {
   "cell_type": "markdown",
   "id": "510d7838-e332-4614-be82-9201e0f90cd2",
   "metadata": {},
   "source": [
    "# N steps "
   ]
  },
  {
   "cell_type": "markdown",
   "id": "6685c9fb-720e-4843-b8b4-d4688f6eeb42",
   "metadata": {},
   "source": [
    "Можно конечно мб какую-то векторную авторегрессию сюда накрутить, но имхо оверкилл"
   ]
  },
  {
   "cell_type": "code",
   "execution_count": 576,
   "id": "4694b03e-dff7-42cf-84f1-0088ecab9238",
   "metadata": {},
   "outputs": [],
   "source": [
    "STEPS = 10\n",
    "\n",
    "means_series = []\n",
    "var_series = []\n",
    "\n",
    "for name in factor_list:\n",
    "\n",
    "    pred = model_dict[name].get_forecast(steps=STEPS)\n",
    "\n",
    "    means_series.append(pred.predicted_mean.values)\n",
    "    var_series.append(pred.var_pred_mean.values)"
   ]
  },
  {
   "cell_type": "markdown",
   "id": "307199b0-5f67-4664-873c-5cd95fde526a",
   "metadata": {},
   "source": [
    "Потестим фукцию для \"вероятности\" траектории"
   ]
  },
  {
   "cell_type": "code",
   "execution_count": 594,
   "id": "3331a4a3-dd9b-4f09-bcbe-4e86702a0b74",
   "metadata": {},
   "outputs": [],
   "source": [
    "# нужен численный индекс последней записи на трейне +1\n",
    "ANCHOR = train['brent'].shape[0]"
   ]
  },
  {
   "cell_type": "code",
   "execution_count": 599,
   "id": "28ccf5f3-164e-4d70-9a34-d807dbc7fbeb",
   "metadata": {},
   "outputs": [],
   "source": [
    "simulation_1 = []\n",
    "\n",
    "for name in factor_list:\n",
    "\n",
    "    simulation_1.append(\n",
    "        model_dict[name].simulate(nsimulations=STEPS,anchor=ANCHOR).values\n",
    "    )"
   ]
  },
  {
   "cell_type": "code",
   "execution_count": 612,
   "id": "e9ae2565-944a-4275-bc01-06369a588a99",
   "metadata": {},
   "outputs": [],
   "source": [
    "# simulation_1"
   ]
  },
  {
   "cell_type": "code",
   "execution_count": 667,
   "id": "c1f29b1e-5e1e-45f9-bac8-279ecb58a2a3",
   "metadata": {},
   "outputs": [],
   "source": [
    "simulation_1\n",
    "\n",
    "p = calculate_simulation_probability(\n",
    "    factor_list,\n",
    "    simulation_1,\n",
    "    cov_matrix,\n",
    "    var_series,\n",
    "    means_series,\n",
    "    logging=False,\n",
    "    logreturn=True\n",
    ")"
   ]
  },
  {
   "cell_type": "code",
   "execution_count": 654,
   "id": "17b1d01f-72ec-4ca5-b4ae-cd2a8f3913df",
   "metadata": {},
   "outputs": [
    {
     "data": {
      "text/plain": [
       "1.0000000000000002e-20"
      ]
     },
     "execution_count": 654,
     "metadata": {},
     "output_type": "execute_result"
    }
   ],
   "source": [
    "0.01**10"
   ]
  },
  {
   "cell_type": "code",
   "execution_count": 596,
   "id": "adfe917b-d26b-4273-acfc-2ca76b04e312",
   "metadata": {},
   "outputs": [],
   "source": [
    "# model_dict['brent'].simulate(nsimulations=3,anchor=ANCHOR)"
   ]
  },
  {
   "cell_type": "code",
   "execution_count": 542,
   "id": "eb946310-7e9f-4852-bc2e-90dc57a7f36a",
   "metadata": {},
   "outputs": [],
   "source": [
    "sample = sps.multivariate_normal(\n",
    "        mean=[5, 10],\n",
    "        cov=[[4, 0], [0, 1]],\n",
    "    )"
   ]
  },
  {
   "cell_type": "code",
   "execution_count": 543,
   "id": "122cef71-425c-4086-988b-33174d6b4d0e",
   "metadata": {},
   "outputs": [
    {
     "data": {
      "text/plain": [
       "0.04259475109761325"
      ]
     },
     "execution_count": 543,
     "metadata": {},
     "output_type": "execute_result"
    }
   ],
   "source": [
    "sample.pdf([6, 11])"
   ]
  },
  {
   "cell_type": "code",
   "execution_count": 539,
   "id": "34fac5e0-2228-4546-8ae5-424bba9e34b3",
   "metadata": {},
   "outputs": [
    {
     "data": {
      "text/plain": [
       "0.04259475109761325"
      ]
     },
     "execution_count": 539,
     "metadata": {},
     "output_type": "execute_result"
    }
   ],
   "source": [
    "sample.pdf([4, 9])"
   ]
  },
  {
   "cell_type": "code",
   "execution_count": null,
   "id": "889ded0f-e7d8-43c0-9b33-738d28f7887a",
   "metadata": {},
   "outputs": [],
   "source": []
  },
  {
   "cell_type": "code",
   "execution_count": 506,
   "id": "d3f1dd70-f975-4eaa-b6b2-f03782846221",
   "metadata": {},
   "outputs": [],
   "source": [
    "# sample_multivariate_normal()"
   ]
  },
  {
   "cell_type": "code",
   "execution_count": 279,
   "id": "a19b8e2e-0814-4b08-bf22-49c6c7e1574e",
   "metadata": {},
   "outputs": [],
   "source": [
    "prior_cov=pd.DataFrame(\n",
    "        {'factor_1': [1, 0], 'factor_2': [0, 2]},\n",
    "        index=['factor_1', 'factor_2']\n",
    "    )\n",
    "\n",
    "df = prior_cov.loc[['factor_1', 'factor_2'], ['factor_1', 'factor_2']].to_numpy()\n",
    "\n"
   ]
  },
  {
   "cell_type": "code",
   "execution_count": 280,
   "id": "119188e9-21e5-4bf7-bcdb-5a85c915b079",
   "metadata": {},
   "outputs": [
    {
     "data": {
      "text/plain": [
       "array([[0, 0],\n",
       "       [0, 0]])"
      ]
     },
     "execution_count": 280,
     "metadata": {},
     "output_type": "execute_result"
    }
   ],
   "source": [
    "df - np.diag(np.diagonal(df))"
   ]
  },
  {
   "cell_type": "code",
   "execution_count": 256,
   "id": "05e06904-3b6d-4dbc-a881-309cf980c2ae",
   "metadata": {},
   "outputs": [],
   "source": [
    "sample_multivariate_normal()"
   ]
  },
  {
   "cell_type": "code",
   "execution_count": 263,
   "id": "df2a0cab-3373-4da1-bc6f-990411f17ebb",
   "metadata": {},
   "outputs": [
    {
     "data": {
      "text/plain": [
       "6956.293793586401"
      ]
     },
     "execution_count": 263,
     "metadata": {},
     "output_type": "execute_result"
    }
   ],
   "source": [
    "all_data.set_index('date').cov()['aluminum']['brent']"
   ]
  },
  {
   "cell_type": "code",
   "execution_count": 267,
   "id": "07bbf726-f42f-4011-b74f-d9f6fa3b648b",
   "metadata": {},
   "outputs": [
    {
     "data": {
      "text/plain": [
       "array([[ 1.80364843e+05,  6.95629379e+03,  6.97002463e+02,\n",
       "        -2.42813658e+02,  5.26221953e+04,  1.57413858e+06,\n",
       "         2.43246554e+04, -9.71246341e+01, -2.80720013e+03,\n",
       "        -2.78639630e+03, -1.47497902e+03, -2.27753016e+03,\n",
       "        -3.26893345e+03,  1.42847403e+04,  1.83095649e+03,\n",
       "         7.75151812e+04,  2.04047168e+03,  1.25961012e+05,\n",
       "         7.92460652e+02,  1.42281119e+04,  5.25586812e+03,\n",
       "         1.55313740e+03, -1.24073212e-02],\n",
       "       [ 6.95629379e+03,  4.61717870e+02,  4.78175599e+01,\n",
       "        -7.18167832e+01, -2.52909487e+03,  8.43027423e+04,\n",
       "        -7.05330607e+02, -1.71625556e+01, -2.08788784e+02,\n",
       "        -2.12126008e+02, -8.28975402e+01, -1.58816004e+02,\n",
       "        -2.55178426e+02,  2.56383655e+02, -2.61992732e+02,\n",
       "        -9.89846110e+02, -1.26102539e+01,  5.36921619e+03,\n",
       "        -1.64290299e+02,  2.10106053e+02,  1.73356213e+02,\n",
       "        -4.29356404e+02, -1.18383709e-01],\n",
       "       [ 6.97002463e+02,  4.78175599e+01,  1.15457541e+01,\n",
       "         6.03869243e+00, -3.96807175e+02,  8.49999646e+03,\n",
       "        -3.44930722e+02,  1.31908880e+01, -3.39858074e+01,\n",
       "        -3.41997284e+01, -1.25075390e+01, -2.58390596e+01,\n",
       "        -4.11046012e+01, -1.48001400e+01, -4.31411469e+01,\n",
       "         5.64494687e+02, -1.77633725e+00,  5.36486413e+02,\n",
       "        -7.64154269e-01,  4.54560607e+01,  1.34667174e+01,\n",
       "        -5.21043054e+01, -1.92313236e-02],\n",
       "       [-2.42813658e+02, -7.18167832e+01,  6.03869243e+00,\n",
       "         1.60372401e+02,  3.99270266e+03, -1.58340249e+04,\n",
       "        -1.25422907e+02,  1.21089698e+02, -1.85258579e+01,\n",
       "        -1.57714523e+01, -2.32937578e-01, -1.16209086e+01,\n",
       "        -2.10027296e+01, -7.69780661e+01,  1.16603919e+02,\n",
       "         7.64889998e+03,  9.22403386e+01,  3.88396534e+03,\n",
       "         3.32244785e+02,  7.32411032e+02, -3.98562819e+00,\n",
       "         5.39639190e+02,  4.24147564e-02],\n",
       "       [ 5.26221953e+04, -2.52909487e+03, -3.96807175e+02,\n",
       "         3.99270266e+03,  3.64572020e+05, -1.09581710e+06,\n",
       "         1.27841163e+05,  1.84604148e+03,  2.36131392e+03,\n",
       "         2.65724679e+03,  3.23085207e+02,  1.61416916e+03,\n",
       "         3.28802887e+03,  2.45649271e+04,  1.75807487e+04,\n",
       "         5.56501760e+05,  7.39376891e+03,  2.69247760e+05,\n",
       "         1.83386077e+04,  5.39340945e+04,  4.02584275e+03,\n",
       "         3.90198588e+04,  6.59170271e+00],\n",
       "       [ 1.57413858e+06,  8.43027423e+04,  8.49999646e+03,\n",
       "        -1.58340249e+04, -1.09581710e+06,  2.41297641e+07,\n",
       "        -3.75496443e+05, -5.80876448e+03, -4.19339135e+04,\n",
       "        -4.32748507e+04, -1.60136430e+04, -3.18189654e+04,\n",
       "        -5.21579530e+04,  1.68372192e+04, -6.32084416e+04,\n",
       "        -1.77345215e+06, -1.20085796e+04,  3.05465328e+05,\n",
       "        -7.16562187e+04, -8.81874652e+04,  3.25003023e+04,\n",
       "        -1.53306730e+05, -3.29228171e+01],\n",
       "       [ 2.43246554e+04, -7.05330607e+02, -3.44930722e+02,\n",
       "        -1.25422907e+02,  1.27841163e+05, -3.75496443e+05,\n",
       "         6.68080346e+04, -7.77254856e+02,  1.75792725e+03,\n",
       "         1.87009247e+03,  2.79774649e+02,  1.20620649e+03,\n",
       "         2.32922689e+03,  1.30845809e+04,  7.86694453e+03,\n",
       "         1.61119161e+05,  2.39729292e+03,  6.84127506e+04,\n",
       "         4.56180811e+03,  1.59305306e+04,  1.91175772e+03,\n",
       "         1.21438425e+04,  2.81969609e+00],\n",
       "       [-9.71246341e+01, -1.71625556e+01,  1.31908880e+01,\n",
       "         1.21089698e+02,  1.84604148e+03, -5.80876448e+03,\n",
       "        -7.77254856e+02,  1.04777621e+02, -5.13299720e+01,\n",
       "        -5.03044002e+01, -1.04499744e+01, -3.57040902e+01,\n",
       "        -6.30896902e+01, -1.60080574e+02, -2.31739622e+01,\n",
       "         5.30352417e+03,  5.01407948e+01,  2.94318618e+03,\n",
       "         2.11787699e+02,  4.81343718e+02, -1.09572716e+01,\n",
       "         2.97985404e+02, -4.31733807e-04],\n",
       "       [-2.80720013e+03, -2.08788784e+02, -3.39858074e+01,\n",
       "        -1.85258579e+01,  2.36131392e+03, -4.19339135e+04,\n",
       "         1.75792725e+03, -5.13299720e+01,  1.64026098e+02,\n",
       "         1.67071071e+02,  5.23895794e+01,  1.20669604e+02,\n",
       "         2.04362321e+02,  1.60198843e+02,  3.02794725e+02,\n",
       "        -1.08126565e+02,  1.87107690e+01, -2.99773405e+03,\n",
       "         5.17783982e+01, -8.31939622e+01, -4.45551061e+01,\n",
       "         2.24874676e+02,  1.01031652e-01],\n",
       "       [-2.78639630e+03, -2.12126008e+02, -3.41997284e+01,\n",
       "        -1.57714523e+01,  2.65724679e+03, -4.32748507e+04,\n",
       "         1.87009247e+03, -5.03044002e+01,  1.67071071e+02,\n",
       "         1.70625550e+02,  5.28173765e+01,  1.22747415e+02,\n",
       "         2.08865735e+02,  1.83369887e+02,  3.20339964e+02,\n",
       "         3.37297997e+02,  2.45891376e+01, -2.86069503e+03,\n",
       "         6.71384957e+01, -4.18019530e+01, -4.12421144e+01,\n",
       "         2.54379101e+02,  1.07208970e-01],\n",
       "       [-1.47497902e+03, -8.28975402e+01, -1.25075390e+01,\n",
       "        -2.32937578e-01,  3.23085207e+02, -1.60136430e+04,\n",
       "         2.79774649e+02, -1.04499744e+01,  5.23895794e+01,\n",
       "         5.28173765e+01,  2.10186383e+01,  4.02959981e+01,\n",
       "         6.34608987e+01, -4.88661144e+01,  5.90545455e+01,\n",
       "        -5.68256861e+02, -4.74615381e+00, -1.02737463e+03,\n",
       "         1.60525305e+01, -8.35352920e+01, -3.69190694e+01,\n",
       "         5.49643644e+01,  2.23284070e-02],\n",
       "       [-2.27753016e+03, -1.58816004e+02, -2.58390596e+01,\n",
       "        -1.16209086e+01,  1.61416916e+03, -3.18189654e+04,\n",
       "         1.20620649e+03, -3.57040902e+01,  1.20669604e+02,\n",
       "         1.22747415e+02,  4.02959981e+01,  8.97594593e+01,\n",
       "         1.49566562e+02,  8.31678816e+01,  2.08279060e+02,\n",
       "        -2.76105947e+02,  1.04578193e+01, -2.11739271e+03,\n",
       "         3.98225620e+01, -7.39167039e+01, -4.07818585e+01,\n",
       "         1.65486143e+02,  7.07726048e-02],\n",
       "       [-3.26893345e+03, -2.55178426e+02, -4.11046012e+01,\n",
       "        -2.10027296e+01,  3.28802887e+03, -5.21579530e+04,\n",
       "         2.32922689e+03, -6.30896902e+01,  2.04362321e+02,\n",
       "         2.08865735e+02,  6.34608987e+01,  1.49566562e+02,\n",
       "         2.56290513e+02,  2.44808026e+02,  4.01181719e+02,\n",
       "         4.63515036e+02,  3.09026127e+01, -3.54548964e+03,\n",
       "         7.93110494e+01, -4.82386996e+01, -4.49275579e+01,\n",
       "         3.03428654e+02,  1.32646710e-01],\n",
       "       [ 1.42847403e+04,  2.56383655e+02, -1.48001400e+01,\n",
       "        -7.69780661e+01,  2.45649271e+04,  1.68372192e+04,\n",
       "         1.30845809e+04, -1.60080574e+02,  1.60198843e+02,\n",
       "         1.83369887e+02, -4.88661144e+01,  8.31678816e+01,\n",
       "         2.44808026e+02,  3.58710080e+03,  1.48763365e+03,\n",
       "         3.11536465e+04,  5.17282964e+02,  1.40506138e+04,\n",
       "         6.29692663e+02,  3.30908516e+03,  6.79897815e+02,\n",
       "         1.99829496e+03,  5.05276652e-01],\n",
       "       [ 1.83095649e+03, -2.61992732e+02, -4.31411469e+01,\n",
       "         1.16603919e+02,  1.75807487e+04, -6.32084416e+04,\n",
       "         7.86694453e+03, -2.31739622e+01,  3.02794725e+02,\n",
       "         3.20339964e+02,  5.90545455e+01,  2.08279060e+02,\n",
       "         4.01181719e+02,  1.48763365e+03,  1.46720001e+03,\n",
       "         2.02907693e+04,  3.53209074e+02,  3.82449788e+03,\n",
       "         7.47822447e+02,  2.01137456e+03,  1.98214501e+02,\n",
       "         1.62204671e+03,  3.99184406e-01],\n",
       "       [ 7.75151812e+04, -9.89846110e+02,  5.64494687e+02,\n",
       "         7.64889998e+03,  5.56501760e+05, -1.77345215e+06,\n",
       "         1.61119161e+05,  5.30352417e+03, -1.08126565e+02,\n",
       "         3.37297997e+02, -5.68256861e+02, -2.76105947e+02,\n",
       "         4.63515036e+02,  3.11536465e+04,  2.02907693e+04,\n",
       "         1.17147480e+06,  1.16242639e+04,  4.76391987e+05,\n",
       "         3.13558088e+04,  9.91740723e+04,  5.41760537e+03,\n",
       "         6.21065292e+04,  8.85096901e+00],\n",
       "       [ 2.04047168e+03, -1.26102539e+01, -1.77633725e+00,\n",
       "         9.22403386e+01,  7.39376891e+03, -1.20085796e+04,\n",
       "         2.39729292e+03,  5.01407948e+01,  1.87107690e+01,\n",
       "         2.45891376e+01, -4.74615381e+00,  1.04578193e+01,\n",
       "         3.09026127e+01,  5.17282964e+02,  3.53209074e+02,\n",
       "         1.16242639e+04,  1.70405789e+02,  5.72386311e+03,\n",
       "         3.79490566e+02,  1.16183418e+03,  1.03820918e+02,\n",
       "         7.91164614e+02,  1.25609611e-01],\n",
       "       [ 1.25961012e+05,  5.36921619e+03,  5.36486413e+02,\n",
       "         3.88396534e+03,  2.69247760e+05,  3.05465328e+05,\n",
       "         6.84127506e+04,  2.94318618e+03, -2.99773405e+03,\n",
       "        -2.86069503e+03, -1.02737463e+03, -2.11739271e+03,\n",
       "        -3.54548964e+03,  1.40506138e+04,  3.82449788e+03,\n",
       "         4.76391987e+05,  5.72386311e+03,  6.15804762e+05,\n",
       "         1.90339312e+04,  5.58779944e+04,  4.65662824e+03,\n",
       "         2.90853935e+04,  2.01627870e+00],\n",
       "       [ 7.92460652e+02, -1.64290299e+02, -7.64154269e-01,\n",
       "         3.32244785e+02,  1.83386077e+04, -7.16562187e+04,\n",
       "         4.56180811e+03,  2.11787699e+02,  5.17783982e+01,\n",
       "         6.71384957e+01,  1.60525305e+01,  3.98225620e+01,\n",
       "         7.93110494e+01,  6.29692663e+02,  7.47822447e+02,\n",
       "         3.13558088e+04,  3.79490566e+02,  1.90339312e+04,\n",
       "         1.29265040e+03,  3.04284736e+03,  9.84910325e+01,\n",
       "         2.12488427e+03,  2.71956016e-01],\n",
       "       [ 1.42281119e+04,  2.10106053e+02,  4.54560607e+01,\n",
       "         7.32411032e+02,  5.39340945e+04, -8.81874652e+04,\n",
       "         1.59305306e+04,  4.81343718e+02, -8.31939622e+01,\n",
       "        -4.18019530e+01, -8.35352920e+01, -7.39167039e+01,\n",
       "        -4.82386996e+01,  3.30908516e+03,  2.01137456e+03,\n",
       "         9.91740723e+04,  1.16183418e+03,  5.58779944e+04,\n",
       "         3.04284736e+03,  9.93796985e+03,  7.28733121e+02,\n",
       "         5.93076537e+03,  7.81672099e-01],\n",
       "       [ 5.25586812e+03,  1.73356213e+02,  1.34667174e+01,\n",
       "        -3.98562819e+00,  4.02584275e+03,  3.25003023e+04,\n",
       "         1.91175772e+03, -1.09572716e+01, -4.45551061e+01,\n",
       "        -4.12421144e+01, -3.69190694e+01, -4.07818585e+01,\n",
       "        -4.49275579e+01,  6.79897815e+02,  1.98214501e+02,\n",
       "         5.41760537e+03,  1.03820918e+02,  4.65662824e+03,\n",
       "         9.84910325e+01,  7.28733121e+02,  1.95669937e+02,\n",
       "         2.86001571e+02,  5.75269270e-02],\n",
       "       [ 1.55313740e+03, -4.29356404e+02, -5.21043054e+01,\n",
       "         5.39639190e+02,  3.90198588e+04, -1.53306730e+05,\n",
       "         1.21438425e+04,  2.97985404e+02,  2.24874676e+02,\n",
       "         2.54379101e+02,  5.49643644e+01,  1.65486143e+02,\n",
       "         3.03428654e+02,  1.99829496e+03,  1.62204671e+03,\n",
       "         6.21065292e+04,  7.91164614e+02,  2.90853935e+04,\n",
       "         2.12488427e+03,  5.93076537e+03,  2.86001571e+02,\n",
       "         4.61202541e+03,  6.85056837e-01],\n",
       "       [-1.24073212e-02, -1.18383709e-01, -1.92313236e-02,\n",
       "         4.24147564e-02,  6.59170271e+00, -3.29228171e+01,\n",
       "         2.81969609e+00, -4.31733807e-04,  1.01031652e-01,\n",
       "         1.07208970e-01,  2.23284070e-02,  7.07726048e-02,\n",
       "         1.32646710e-01,  5.05276652e-01,  3.99184406e-01,\n",
       "         8.85096901e+00,  1.25609611e-01,  2.01627870e+00,\n",
       "         2.71956016e-01,  7.81672099e-01,  5.75269270e-02,\n",
       "         6.85056837e-01,  1.52930855e-04]])"
      ]
     },
     "execution_count": 267,
     "metadata": {},
     "output_type": "execute_result"
    }
   ],
   "source": [
    "all_data.set_index('date').cov().to_numpy()"
   ]
  },
  {
   "cell_type": "code",
   "execution_count": 266,
   "id": "42690f29-e5ff-40b4-b5a7-3029b4a2dade",
   "metadata": {},
   "outputs": [],
   "source": [
    "# all_data.set_index('date').corr()['aluminum']['aluminum']"
   ]
  }
 ],
 "metadata": {
  "kernelspec": {
   "display_name": "Python 3 (ipykernel)",
   "language": "python",
   "name": "python3"
  },
  "language_info": {
   "codemirror_mode": {
    "name": "ipython",
    "version": 3
   },
   "file_extension": ".py",
   "mimetype": "text/x-python",
   "name": "python",
   "nbconvert_exporter": "python",
   "pygments_lexer": "ipython3",
   "version": "3.10.11"
  }
 },
 "nbformat": 4,
 "nbformat_minor": 5
}
