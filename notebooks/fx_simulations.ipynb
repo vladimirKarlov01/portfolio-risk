{
 "cells": [
  {
   "metadata": {},
   "cell_type": "markdown",
   "source": [
    "# Rates Simulations\n",
    "\n",
    "Построение симуляций для моделирования поведения курсов валют (пары USD/RUB и EUR/RUB)\n",
    "\n",
    "В качестве модели будем использовать логарифмическую модель"
   ],
   "id": "16908f5ee0de9888"
  },
  {
   "metadata": {
    "ExecuteTime": {
     "end_time": "2024-06-20T00:42:22.058727Z",
     "start_time": "2024-06-20T00:42:22.045502Z"
    }
   },
   "cell_type": "code",
   "source": [
    "import pandas as pd\n",
    "\n",
    "from data import DATA_PATH"
   ],
   "id": "f6a357049f2fd615",
   "outputs": [],
   "execution_count": 2
  },
  {
   "metadata": {},
   "cell_type": "markdown",
   "source": "### Чтение данных",
   "id": "8f21f1a982f21e7a"
  },
  {
   "metadata": {
    "ExecuteTime": {
     "end_time": "2024-06-20T00:42:22.818217Z",
     "start_time": "2024-06-20T00:42:22.773722Z"
    }
   },
   "cell_type": "code",
   "source": [
    "all_data = pd.read_csv(DATA_PATH / 'all_data.csv', index_col='date')\n",
    "all_data.head()"
   ],
   "id": "abf6a11db4826f7c",
   "outputs": [
    {
     "data": {
      "text/plain": [
       "            aluminum  brent  cbr_key_rate  eur_rub  moex_index   nickel  \\\n",
       "date                                                                      \n",
       "2020-01-10    1806.0  65.02          6.25  68.0555     3123.66  14116.0   \n",
       "2020-01-11    1806.0  65.02          6.25  68.0555     3123.66  14116.0   \n",
       "2020-01-12    1806.0  65.02          6.25  68.0555     3123.66  14116.0   \n",
       "2020-01-13    1798.0  64.23          6.25  68.0450     3151.69  14007.5   \n",
       "2020-01-14    1809.0  64.42          6.25  67.8162     3129.77  13781.0   \n",
       "\n",
       "               rtsi  usd_rub  su26218  su26221  ...   gazp    gmkn    lkoh  \\\n",
       "date                                            ...                          \n",
       "2020-01-10  1614.69  61.2340  119.766  113.450  ...  251.9  198.78  6490.0   \n",
       "2020-01-11  1614.69  61.2340  119.766  113.450  ...  251.9  198.78  6490.0   \n",
       "2020-01-12  1614.69  61.2340  119.766  113.450  ...  251.9  198.78  6490.0   \n",
       "2020-01-13  1619.73  61.2632  119.999  113.791  ...  251.5  203.62  6530.0   \n",
       "2020-01-14  1604.96  60.9474  119.800  113.597  ...  250.0  200.00  6520.5   \n",
       "\n",
       "              magn    mgnt    moex    rosn   rual    sber     vtbr  \n",
       "date                                                                \n",
       "2020-01-10  43.345  3319.5  112.99  473.50  31.70  258.19  0.04760  \n",
       "2020-01-11  43.345  3319.5  112.99  473.50  31.70  258.19  0.04760  \n",
       "2020-01-12  43.345  3319.5  112.99  473.50  31.70  258.19  0.04760  \n",
       "2020-01-13  44.610  3345.0  114.10  481.15  32.20  262.40  0.04806  \n",
       "2020-01-14  44.280  3339.0  114.02  475.50  32.83  259.05  0.04726  \n",
       "\n",
       "[5 rows x 23 columns]"
      ],
      "text/html": [
       "<div>\n",
       "<style scoped>\n",
       "    .dataframe tbody tr th:only-of-type {\n",
       "        vertical-align: middle;\n",
       "    }\n",
       "\n",
       "    .dataframe tbody tr th {\n",
       "        vertical-align: top;\n",
       "    }\n",
       "\n",
       "    .dataframe thead th {\n",
       "        text-align: right;\n",
       "    }\n",
       "</style>\n",
       "<table border=\"1\" class=\"dataframe\">\n",
       "  <thead>\n",
       "    <tr style=\"text-align: right;\">\n",
       "      <th></th>\n",
       "      <th>aluminum</th>\n",
       "      <th>brent</th>\n",
       "      <th>cbr_key_rate</th>\n",
       "      <th>eur_rub</th>\n",
       "      <th>moex_index</th>\n",
       "      <th>nickel</th>\n",
       "      <th>rtsi</th>\n",
       "      <th>usd_rub</th>\n",
       "      <th>su26218</th>\n",
       "      <th>su26221</th>\n",
       "      <th>...</th>\n",
       "      <th>gazp</th>\n",
       "      <th>gmkn</th>\n",
       "      <th>lkoh</th>\n",
       "      <th>magn</th>\n",
       "      <th>mgnt</th>\n",
       "      <th>moex</th>\n",
       "      <th>rosn</th>\n",
       "      <th>rual</th>\n",
       "      <th>sber</th>\n",
       "      <th>vtbr</th>\n",
       "    </tr>\n",
       "    <tr>\n",
       "      <th>date</th>\n",
       "      <th></th>\n",
       "      <th></th>\n",
       "      <th></th>\n",
       "      <th></th>\n",
       "      <th></th>\n",
       "      <th></th>\n",
       "      <th></th>\n",
       "      <th></th>\n",
       "      <th></th>\n",
       "      <th></th>\n",
       "      <th></th>\n",
       "      <th></th>\n",
       "      <th></th>\n",
       "      <th></th>\n",
       "      <th></th>\n",
       "      <th></th>\n",
       "      <th></th>\n",
       "      <th></th>\n",
       "      <th></th>\n",
       "      <th></th>\n",
       "      <th></th>\n",
       "    </tr>\n",
       "  </thead>\n",
       "  <tbody>\n",
       "    <tr>\n",
       "      <th>2020-01-10</th>\n",
       "      <td>1806.0</td>\n",
       "      <td>65.02</td>\n",
       "      <td>6.25</td>\n",
       "      <td>68.0555</td>\n",
       "      <td>3123.66</td>\n",
       "      <td>14116.0</td>\n",
       "      <td>1614.69</td>\n",
       "      <td>61.2340</td>\n",
       "      <td>119.766</td>\n",
       "      <td>113.450</td>\n",
       "      <td>...</td>\n",
       "      <td>251.9</td>\n",
       "      <td>198.78</td>\n",
       "      <td>6490.0</td>\n",
       "      <td>43.345</td>\n",
       "      <td>3319.5</td>\n",
       "      <td>112.99</td>\n",
       "      <td>473.50</td>\n",
       "      <td>31.70</td>\n",
       "      <td>258.19</td>\n",
       "      <td>0.04760</td>\n",
       "    </tr>\n",
       "    <tr>\n",
       "      <th>2020-01-11</th>\n",
       "      <td>1806.0</td>\n",
       "      <td>65.02</td>\n",
       "      <td>6.25</td>\n",
       "      <td>68.0555</td>\n",
       "      <td>3123.66</td>\n",
       "      <td>14116.0</td>\n",
       "      <td>1614.69</td>\n",
       "      <td>61.2340</td>\n",
       "      <td>119.766</td>\n",
       "      <td>113.450</td>\n",
       "      <td>...</td>\n",
       "      <td>251.9</td>\n",
       "      <td>198.78</td>\n",
       "      <td>6490.0</td>\n",
       "      <td>43.345</td>\n",
       "      <td>3319.5</td>\n",
       "      <td>112.99</td>\n",
       "      <td>473.50</td>\n",
       "      <td>31.70</td>\n",
       "      <td>258.19</td>\n",
       "      <td>0.04760</td>\n",
       "    </tr>\n",
       "    <tr>\n",
       "      <th>2020-01-12</th>\n",
       "      <td>1806.0</td>\n",
       "      <td>65.02</td>\n",
       "      <td>6.25</td>\n",
       "      <td>68.0555</td>\n",
       "      <td>3123.66</td>\n",
       "      <td>14116.0</td>\n",
       "      <td>1614.69</td>\n",
       "      <td>61.2340</td>\n",
       "      <td>119.766</td>\n",
       "      <td>113.450</td>\n",
       "      <td>...</td>\n",
       "      <td>251.9</td>\n",
       "      <td>198.78</td>\n",
       "      <td>6490.0</td>\n",
       "      <td>43.345</td>\n",
       "      <td>3319.5</td>\n",
       "      <td>112.99</td>\n",
       "      <td>473.50</td>\n",
       "      <td>31.70</td>\n",
       "      <td>258.19</td>\n",
       "      <td>0.04760</td>\n",
       "    </tr>\n",
       "    <tr>\n",
       "      <th>2020-01-13</th>\n",
       "      <td>1798.0</td>\n",
       "      <td>64.23</td>\n",
       "      <td>6.25</td>\n",
       "      <td>68.0450</td>\n",
       "      <td>3151.69</td>\n",
       "      <td>14007.5</td>\n",
       "      <td>1619.73</td>\n",
       "      <td>61.2632</td>\n",
       "      <td>119.999</td>\n",
       "      <td>113.791</td>\n",
       "      <td>...</td>\n",
       "      <td>251.5</td>\n",
       "      <td>203.62</td>\n",
       "      <td>6530.0</td>\n",
       "      <td>44.610</td>\n",
       "      <td>3345.0</td>\n",
       "      <td>114.10</td>\n",
       "      <td>481.15</td>\n",
       "      <td>32.20</td>\n",
       "      <td>262.40</td>\n",
       "      <td>0.04806</td>\n",
       "    </tr>\n",
       "    <tr>\n",
       "      <th>2020-01-14</th>\n",
       "      <td>1809.0</td>\n",
       "      <td>64.42</td>\n",
       "      <td>6.25</td>\n",
       "      <td>67.8162</td>\n",
       "      <td>3129.77</td>\n",
       "      <td>13781.0</td>\n",
       "      <td>1604.96</td>\n",
       "      <td>60.9474</td>\n",
       "      <td>119.800</td>\n",
       "      <td>113.597</td>\n",
       "      <td>...</td>\n",
       "      <td>250.0</td>\n",
       "      <td>200.00</td>\n",
       "      <td>6520.5</td>\n",
       "      <td>44.280</td>\n",
       "      <td>3339.0</td>\n",
       "      <td>114.02</td>\n",
       "      <td>475.50</td>\n",
       "      <td>32.83</td>\n",
       "      <td>259.05</td>\n",
       "      <td>0.04726</td>\n",
       "    </tr>\n",
       "  </tbody>\n",
       "</table>\n",
       "<p>5 rows × 23 columns</p>\n",
       "</div>"
      ]
     },
     "execution_count": 3,
     "metadata": {},
     "output_type": "execute_result"
    }
   ],
   "execution_count": 3
  },
  {
   "metadata": {
    "ExecuteTime": {
     "end_time": "2024-06-20T00:42:35.835490Z",
     "start_time": "2024-06-20T00:42:35.828966Z"
    }
   },
   "cell_type": "code",
   "source": "usd_rub = all_data['usd_rub']",
   "id": "4095773e79135a00",
   "outputs": [],
   "execution_count": 4
  },
  {
   "metadata": {
    "ExecuteTime": {
     "end_time": "2024-06-20T00:42:43.636458Z",
     "start_time": "2024-06-20T00:42:43.616901Z"
    }
   },
   "cell_type": "code",
   "source": "usd_rub.describe()",
   "id": "16a738a0f0720f26",
   "outputs": [
    {
     "data": {
      "text/plain": [
       "count    1450.000000\n",
       "mean       74.659637\n",
       "std         9.839833\n",
       "min        51.158000\n",
       "25%        70.543975\n",
       "50%        73.786400\n",
       "75%        77.732500\n",
       "max       103.161800\n",
       "Name: usd_rub, dtype: float64"
      ]
     },
     "execution_count": 5,
     "metadata": {},
     "output_type": "execute_result"
    }
   ],
   "execution_count": 5
  },
  {
   "metadata": {
    "ExecuteTime": {
     "end_time": "2024-06-20T00:42:56.974674Z",
     "start_time": "2024-06-20T00:42:56.970901Z"
    }
   },
   "cell_type": "code",
   "source": "eur_rub = all_data['eur_rub']",
   "id": "fc3a04bc28d505e8",
   "outputs": [],
   "execution_count": 7
  },
  {
   "metadata": {
    "ExecuteTime": {
     "end_time": "2024-06-20T00:42:57.066487Z",
     "start_time": "2024-06-20T00:42:57.061403Z"
    }
   },
   "cell_type": "code",
   "source": "eur_rub.describe()",
   "id": "9f927a9aa384290a",
   "outputs": [
    {
     "data": {
      "text/plain": [
       "count    1450.000000\n",
       "mean       83.350778\n",
       "std        12.260458\n",
       "min        52.737900\n",
       "25%        77.796500\n",
       "50%        86.345700\n",
       "75%        90.202300\n",
       "max       113.261300\n",
       "Name: eur_rub, dtype: float64"
      ]
     },
     "execution_count": 8,
     "metadata": {},
     "output_type": "execute_result"
    }
   ],
   "execution_count": 8
  },
  {
   "metadata": {},
   "cell_type": "markdown",
   "source": [
    "### Формальная постановка задачи\n",
    "\n",
    "**Логарифмическая модель:**\n",
    "\n",
    "$$\n",
    "\\frac{d X_t}{X_t} = (r_t^f - r_t^d)d t + \\sigma_1 d W_t\n",
    "$$\n",
    "\n",
    "- $r^d$ - мгновенная процентная ставка валюты Рубль\n",
    "\n",
    "- $r^f$ - мгновенная процентная ставка валюты Доллар\n",
    "\n",
    "Разностная схема: $X_{t+1} = X_t + X_t(r_t^f - r_t^d)d t + X_t \\sigma_1(W_{t+1} - W_t)$"
   ],
   "id": "14e66104e601a305"
  },
  {
   "metadata": {},
   "cell_type": "code",
   "outputs": [],
   "execution_count": null,
   "source": "",
   "id": "7b2a24d8c64cdae1"
  },
  {
   "metadata": {},
   "cell_type": "code",
   "outputs": [],
   "execution_count": null,
   "source": "",
   "id": "2db77d7b068bca2d"
  }
 ],
 "metadata": {
  "kernelspec": {
   "display_name": "Python 3",
   "language": "python",
   "name": "python3"
  },
  "language_info": {
   "codemirror_mode": {
    "name": "ipython",
    "version": 2
   },
   "file_extension": ".py",
   "mimetype": "text/x-python",
   "name": "python",
   "nbconvert_exporter": "python",
   "pygments_lexer": "ipython2",
   "version": "2.7.6"
  }
 },
 "nbformat": 4,
 "nbformat_minor": 5
}
