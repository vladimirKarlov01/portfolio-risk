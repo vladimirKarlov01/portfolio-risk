{
 "cells": [
  {
   "metadata": {},
   "cell_type": "markdown",
   "source": [
    "# Rates Simulations\n",
    "\n",
    "Построение симуляций для моделирования поведения курсов валют (пары USD/RUB и EUR/RUB)\n",
    "\n",
    "В качестве модели будем использовать логарифмическую модель"
   ],
   "id": "16908f5ee0de9888"
  },
  {
   "metadata": {
    "ExecuteTime": {
     "end_time": "2024-06-20T12:03:39.429140Z",
     "start_time": "2024-06-20T12:03:39.423538Z"
    }
   },
   "cell_type": "code",
   "source": [
    "import pandas as pd\n",
    "import numpy as np\n",
    "\n",
    "from data import DATA_PATH"
   ],
   "id": "f6a357049f2fd615",
   "outputs": [],
   "execution_count": 21
  },
  {
   "metadata": {},
   "cell_type": "markdown",
   "source": "### Чтение данных",
   "id": "8f21f1a982f21e7a"
  },
  {
   "metadata": {
    "ExecuteTime": {
     "end_time": "2024-06-20T12:37:13.564928Z",
     "start_time": "2024-06-20T12:37:13.481613Z"
    }
   },
   "cell_type": "code",
   "source": [
    "all_data = pd.read_csv(DATA_PATH / 'all_data.csv', index_col='date')\n",
    "all_data.head()"
   ],
   "id": "abf6a11db4826f7c",
   "outputs": [
    {
     "data": {
      "text/plain": [
       "            su26230_days_before_coupon  su26224_days_before_coupon  \\\n",
       "date                                                                 \n",
       "2020-01-10                          89                         145   \n",
       "2020-01-11                          89                         145   \n",
       "2020-01-12                          89                         145   \n",
       "2020-01-13                          86                         142   \n",
       "2020-01-14                          85                         141   \n",
       "\n",
       "            su26222_days_before_coupon  su26221_days_before_coupon  \\\n",
       "date                                                                 \n",
       "2020-01-10                         103                          89   \n",
       "2020-01-11                         103                          89   \n",
       "2020-01-12                         103                          89   \n",
       "2020-01-13                         100                          86   \n",
       "2020-01-14                          99                          85   \n",
       "\n",
       "            su26218_days_before_coupon  ecb_rate  aluminum  brent  \\\n",
       "date                                                                \n",
       "2020-01-10                          82      0.25    1806.0  65.02   \n",
       "2020-01-11                          82      0.25    1806.0  65.02   \n",
       "2020-01-12                          82      0.25    1806.0  65.02   \n",
       "2020-01-13                          79      0.25    1798.0  64.23   \n",
       "2020-01-14                          78      0.25    1809.0  64.42   \n",
       "\n",
       "            cbr_key_rate  eur_rub  ...    sber     vtbr  year_1  year_3  \\\n",
       "date                               ...                                    \n",
       "2020-01-10          6.25  68.0555  ...  258.19  0.04760    5.48    5.69   \n",
       "2020-01-11          6.25  68.0555  ...  258.19  0.04760    5.48    5.69   \n",
       "2020-01-12          6.25  68.0555  ...  258.19  0.04760    5.48    5.69   \n",
       "2020-01-13          6.25  68.0450  ...  262.40  0.04806    5.45    5.64   \n",
       "2020-01-14          6.25  67.8162  ...  259.05  0.04726    5.46    5.68   \n",
       "\n",
       "            year_5  year_10  year_15  year_20   pca_cbd  sofr  \n",
       "date                                                           \n",
       "2020-01-10    5.90     6.26     6.48     6.61 -5.601225  1.55  \n",
       "2020-01-11    5.90     6.26     6.48     6.61 -5.601225  1.55  \n",
       "2020-01-12    5.90     6.26     6.48     6.61 -5.601225  1.55  \n",
       "2020-01-13    5.84     6.18     6.39     6.52 -5.760549  1.54  \n",
       "2020-01-14    5.89     6.26     6.47     6.60 -5.626252  1.55  \n",
       "\n",
       "[5 rows x 37 columns]"
      ],
      "text/html": [
       "<div>\n",
       "<style scoped>\n",
       "    .dataframe tbody tr th:only-of-type {\n",
       "        vertical-align: middle;\n",
       "    }\n",
       "\n",
       "    .dataframe tbody tr th {\n",
       "        vertical-align: top;\n",
       "    }\n",
       "\n",
       "    .dataframe thead th {\n",
       "        text-align: right;\n",
       "    }\n",
       "</style>\n",
       "<table border=\"1\" class=\"dataframe\">\n",
       "  <thead>\n",
       "    <tr style=\"text-align: right;\">\n",
       "      <th></th>\n",
       "      <th>su26230_days_before_coupon</th>\n",
       "      <th>su26224_days_before_coupon</th>\n",
       "      <th>su26222_days_before_coupon</th>\n",
       "      <th>su26221_days_before_coupon</th>\n",
       "      <th>su26218_days_before_coupon</th>\n",
       "      <th>ecb_rate</th>\n",
       "      <th>aluminum</th>\n",
       "      <th>brent</th>\n",
       "      <th>cbr_key_rate</th>\n",
       "      <th>eur_rub</th>\n",
       "      <th>...</th>\n",
       "      <th>sber</th>\n",
       "      <th>vtbr</th>\n",
       "      <th>year_1</th>\n",
       "      <th>year_3</th>\n",
       "      <th>year_5</th>\n",
       "      <th>year_10</th>\n",
       "      <th>year_15</th>\n",
       "      <th>year_20</th>\n",
       "      <th>pca_cbd</th>\n",
       "      <th>sofr</th>\n",
       "    </tr>\n",
       "    <tr>\n",
       "      <th>date</th>\n",
       "      <th></th>\n",
       "      <th></th>\n",
       "      <th></th>\n",
       "      <th></th>\n",
       "      <th></th>\n",
       "      <th></th>\n",
       "      <th></th>\n",
       "      <th></th>\n",
       "      <th></th>\n",
       "      <th></th>\n",
       "      <th></th>\n",
       "      <th></th>\n",
       "      <th></th>\n",
       "      <th></th>\n",
       "      <th></th>\n",
       "      <th></th>\n",
       "      <th></th>\n",
       "      <th></th>\n",
       "      <th></th>\n",
       "      <th></th>\n",
       "      <th></th>\n",
       "    </tr>\n",
       "  </thead>\n",
       "  <tbody>\n",
       "    <tr>\n",
       "      <th>2020-01-10</th>\n",
       "      <td>89</td>\n",
       "      <td>145</td>\n",
       "      <td>103</td>\n",
       "      <td>89</td>\n",
       "      <td>82</td>\n",
       "      <td>0.25</td>\n",
       "      <td>1806.0</td>\n",
       "      <td>65.02</td>\n",
       "      <td>6.25</td>\n",
       "      <td>68.0555</td>\n",
       "      <td>...</td>\n",
       "      <td>258.19</td>\n",
       "      <td>0.04760</td>\n",
       "      <td>5.48</td>\n",
       "      <td>5.69</td>\n",
       "      <td>5.90</td>\n",
       "      <td>6.26</td>\n",
       "      <td>6.48</td>\n",
       "      <td>6.61</td>\n",
       "      <td>-5.601225</td>\n",
       "      <td>1.55</td>\n",
       "    </tr>\n",
       "    <tr>\n",
       "      <th>2020-01-11</th>\n",
       "      <td>89</td>\n",
       "      <td>145</td>\n",
       "      <td>103</td>\n",
       "      <td>89</td>\n",
       "      <td>82</td>\n",
       "      <td>0.25</td>\n",
       "      <td>1806.0</td>\n",
       "      <td>65.02</td>\n",
       "      <td>6.25</td>\n",
       "      <td>68.0555</td>\n",
       "      <td>...</td>\n",
       "      <td>258.19</td>\n",
       "      <td>0.04760</td>\n",
       "      <td>5.48</td>\n",
       "      <td>5.69</td>\n",
       "      <td>5.90</td>\n",
       "      <td>6.26</td>\n",
       "      <td>6.48</td>\n",
       "      <td>6.61</td>\n",
       "      <td>-5.601225</td>\n",
       "      <td>1.55</td>\n",
       "    </tr>\n",
       "    <tr>\n",
       "      <th>2020-01-12</th>\n",
       "      <td>89</td>\n",
       "      <td>145</td>\n",
       "      <td>103</td>\n",
       "      <td>89</td>\n",
       "      <td>82</td>\n",
       "      <td>0.25</td>\n",
       "      <td>1806.0</td>\n",
       "      <td>65.02</td>\n",
       "      <td>6.25</td>\n",
       "      <td>68.0555</td>\n",
       "      <td>...</td>\n",
       "      <td>258.19</td>\n",
       "      <td>0.04760</td>\n",
       "      <td>5.48</td>\n",
       "      <td>5.69</td>\n",
       "      <td>5.90</td>\n",
       "      <td>6.26</td>\n",
       "      <td>6.48</td>\n",
       "      <td>6.61</td>\n",
       "      <td>-5.601225</td>\n",
       "      <td>1.55</td>\n",
       "    </tr>\n",
       "    <tr>\n",
       "      <th>2020-01-13</th>\n",
       "      <td>86</td>\n",
       "      <td>142</td>\n",
       "      <td>100</td>\n",
       "      <td>86</td>\n",
       "      <td>79</td>\n",
       "      <td>0.25</td>\n",
       "      <td>1798.0</td>\n",
       "      <td>64.23</td>\n",
       "      <td>6.25</td>\n",
       "      <td>68.0450</td>\n",
       "      <td>...</td>\n",
       "      <td>262.40</td>\n",
       "      <td>0.04806</td>\n",
       "      <td>5.45</td>\n",
       "      <td>5.64</td>\n",
       "      <td>5.84</td>\n",
       "      <td>6.18</td>\n",
       "      <td>6.39</td>\n",
       "      <td>6.52</td>\n",
       "      <td>-5.760549</td>\n",
       "      <td>1.54</td>\n",
       "    </tr>\n",
       "    <tr>\n",
       "      <th>2020-01-14</th>\n",
       "      <td>85</td>\n",
       "      <td>141</td>\n",
       "      <td>99</td>\n",
       "      <td>85</td>\n",
       "      <td>78</td>\n",
       "      <td>0.25</td>\n",
       "      <td>1809.0</td>\n",
       "      <td>64.42</td>\n",
       "      <td>6.25</td>\n",
       "      <td>67.8162</td>\n",
       "      <td>...</td>\n",
       "      <td>259.05</td>\n",
       "      <td>0.04726</td>\n",
       "      <td>5.46</td>\n",
       "      <td>5.68</td>\n",
       "      <td>5.89</td>\n",
       "      <td>6.26</td>\n",
       "      <td>6.47</td>\n",
       "      <td>6.60</td>\n",
       "      <td>-5.626252</td>\n",
       "      <td>1.55</td>\n",
       "    </tr>\n",
       "  </tbody>\n",
       "</table>\n",
       "<p>5 rows × 37 columns</p>\n",
       "</div>"
      ]
     },
     "execution_count": 44,
     "metadata": {},
     "output_type": "execute_result"
    }
   ],
   "execution_count": 44
  },
  {
   "metadata": {
    "ExecuteTime": {
     "end_time": "2024-06-20T12:03:39.835286Z",
     "start_time": "2024-06-20T12:03:39.833041Z"
    }
   },
   "cell_type": "code",
   "source": "usd_rub = all_data['usd_rub']",
   "id": "4095773e79135a00",
   "outputs": [],
   "execution_count": 23
  },
  {
   "metadata": {
    "ExecuteTime": {
     "end_time": "2024-06-20T12:03:40.087939Z",
     "start_time": "2024-06-20T12:03:40.069391Z"
    }
   },
   "cell_type": "code",
   "source": "usd_rub.describe()",
   "id": "16a738a0f0720f26",
   "outputs": [
    {
     "data": {
      "text/plain": [
       "count    1450.000000\n",
       "mean       74.659637\n",
       "std         9.839833\n",
       "min        51.158000\n",
       "25%        70.543975\n",
       "50%        73.786400\n",
       "75%        77.732500\n",
       "max       103.161800\n",
       "Name: usd_rub, dtype: float64"
      ]
     },
     "execution_count": 24,
     "metadata": {},
     "output_type": "execute_result"
    }
   ],
   "execution_count": 24
  },
  {
   "metadata": {
    "ExecuteTime": {
     "end_time": "2024-06-20T12:03:41.066123Z",
     "start_time": "2024-06-20T12:03:41.051293Z"
    }
   },
   "cell_type": "code",
   "source": "eur_rub = all_data['eur_rub']",
   "id": "fc3a04bc28d505e8",
   "outputs": [],
   "execution_count": 25
  },
  {
   "metadata": {
    "ExecuteTime": {
     "end_time": "2024-06-20T12:03:41.994490Z",
     "start_time": "2024-06-20T12:03:41.983406Z"
    }
   },
   "cell_type": "code",
   "source": "eur_rub.describe()",
   "id": "9f927a9aa384290a",
   "outputs": [
    {
     "data": {
      "text/plain": [
       "count    1450.000000\n",
       "mean       83.350778\n",
       "std        12.260458\n",
       "min        52.737900\n",
       "25%        77.796500\n",
       "50%        86.345700\n",
       "75%        90.202300\n",
       "max       113.261300\n",
       "Name: eur_rub, dtype: float64"
      ]
     },
     "execution_count": 26,
     "metadata": {},
     "output_type": "execute_result"
    }
   ],
   "execution_count": 26
  },
  {
   "metadata": {},
   "cell_type": "markdown",
   "source": [
    "### Формальная постановка задачи\n",
    "\n",
    "**Логарифмическая модель:**\n",
    "\n",
    "$\n",
    "\\frac{d X_t}{X_t} = (r_t^f - r_t^d)d t + \\sigma_1 d W_t\n",
    "$\n",
    "\n",
    "- $r^d$ - мгновенная процентная ставка валюты Рубль\n",
    "\n",
    "- $r^f$ - мгновенная процентная ставка валюты Доллар/Евро\n",
    "\n",
    "Разностная схема: $X_{t+1} = X_t + X_t(r_t^f - r_t^d)d t + X_t \\sigma_1(W_{t+1} - W_t)$"
   ],
   "id": "14e66104e601a305"
  },
  {
   "metadata": {
    "ExecuteTime": {
     "end_time": "2024-06-20T11:55:34.864128Z",
     "start_time": "2024-06-20T11:55:34.846717Z"
    }
   },
   "cell_type": "code",
   "source": [
    "def log_sim(x_0, r_f, r_d, sigma, n_days, n_sim, deltas_W=None):\n",
    "    \"\"\"\n",
    "    x_0 - float\n",
    "    r_f - np.array[n_sim x (n_days + 1)]\n",
    "    r_d - np.array[n_sim x (n_days + 1)]\n",
    "    sigma - float\n",
    "    n_sim - int\n",
    "\n",
    "    result - np.array[n_sim x (n_days + 1)]\n",
    "    \"\"\"\n",
    "    result = np.array([x_0] * n_sim).reshape(-1, 1)\n",
    "    for i in range(1, n_days + 1):\n",
    "        x_prev = result[:, -1].reshape(-1, 1)\n",
    "        delta_t = 1\n",
    "\n",
    "        if deltas_W is None:\n",
    "            delta_W = np.random.normal(loc=0, scale=np.sqrt(delta_t), size=(n_sim, 1))\n",
    "        else:\n",
    "            delta_W = deltas_W[:, i-1].reshape(-1, 1)\n",
    "\n",
    "        r_d_i = r_d[:,i-1].reshape(-1, 1)\n",
    "        r_f_i = r_f[:,i-1].reshape(-1, 1)\n",
    "\n",
    "        x_t_i = x_prev + x_prev *(r_f_i - r_d_i) * delta_t + sigma * x_prev * delta_W\n",
    "        result = np.hstack([result, x_t_i])\n",
    "    return result"
   ],
   "id": "7b2a24d8c64cdae1",
   "outputs": [],
   "execution_count": 18
  },
  {
   "metadata": {},
   "cell_type": "markdown",
   "source": [
    "### Подберем параметры для модели\n",
    "\n",
    "Для того, чтобы оценить сигму для лог модели, мы воспользовались схемой Эйлера-Муроямы, выразив шум модели, посчитали шум на исторических данных и взяли его стандартное отклонение"
   ],
   "id": "9736f99901dbb8c7"
  },
  {
   "metadata": {
    "ExecuteTime": {
     "end_time": "2024-06-20T12:08:07.350077Z",
     "start_time": "2024-06-20T12:08:07.344786Z"
    }
   },
   "cell_type": "code",
   "source": [
    "def calc_opt_sigma(\n",
    "    fx_data: pd.Series,\n",
    "    domestic_rates: pd.Series,\n",
    "    foreign_rates: pd.Series,\n",
    ") -> float:\n",
    "    domestic_prev = domestic_rates.values[:-1]\n",
    "    foreign_prev = foreign_rates.values[:-1]\n",
    "    fx_prev = fx_data.values[:-1]\n",
    "    fx_curr = fx_data.values[1:]\n",
    "    noise = fx_curr - fx_prev * (1 - foreign_prev - domestic_prev)\n",
    "    noise_fx = noise / fx_prev\n",
    "    return np.std(noise_fx)"
   ],
   "id": "f42482a26a76415a",
   "outputs": [],
   "execution_count": 34
  },
  {
   "metadata": {
    "ExecuteTime": {
     "end_time": "2024-06-20T12:09:47.072883Z",
     "start_time": "2024-06-20T12:09:47.053307Z"
    }
   },
   "cell_type": "code",
   "source": "calc_opt_sigma(usd_rub, all_data['cbr_key_rate'], all_data['ecb_rate'])",
   "id": "187c4ac6805a8bd1",
   "outputs": [
    {
     "data": {
      "text/plain": [
       "4.351965526837073"
      ]
     },
     "execution_count": 37,
     "metadata": {},
     "output_type": "execute_result"
    }
   ],
   "execution_count": 37
  },
  {
   "metadata": {
    "ExecuteTime": {
     "end_time": "2024-06-20T12:37:24.424364Z",
     "start_time": "2024-06-20T12:37:24.401487Z"
    }
   },
   "cell_type": "code",
   "source": "calc_opt_sigma(eur_rub, all_data['cbr_key_rate'], all_data['sofr'])",
   "id": "1e5cd060b1d32e3d",
   "outputs": [
    {
     "data": {
      "text/plain": [
       "4.673321811786814"
      ]
     },
     "execution_count": 45,
     "metadata": {},
     "output_type": "execute_result"
    }
   ],
   "execution_count": 45
  },
  {
   "metadata": {},
   "cell_type": "markdown",
   "source": "Стоит использовать разложение Холецкого для построения скоррелированных симуляций (реализацию см. в коде решения)",
   "id": "75fa298925d38048"
  },
  {
   "metadata": {},
   "cell_type": "code",
   "outputs": [],
   "execution_count": null,
   "source": "",
   "id": "a5431ddd9a46aba"
  }
 ],
 "metadata": {
  "kernelspec": {
   "display_name": "Python 3",
   "language": "python",
   "name": "python3"
  },
  "language_info": {
   "codemirror_mode": {
    "name": "ipython",
    "version": 2
   },
   "file_extension": ".py",
   "mimetype": "text/x-python",
   "name": "python",
   "nbconvert_exporter": "python",
   "pygments_lexer": "ipython2",
   "version": "2.7.6"
  }
 },
 "nbformat": 4,
 "nbformat_minor": 5
}
