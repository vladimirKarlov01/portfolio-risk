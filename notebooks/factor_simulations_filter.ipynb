{
 "cells": [
  {
   "cell_type": "code",
   "execution_count": 110,
   "id": "fdbc644a-e17f-4d0e-935e-8eb32b6a5dad",
   "metadata": {},
   "outputs": [],
   "source": [
    "import os, sys\n",
    "import pandas as pd\n",
    "from sklearn import metrics\n",
    "import numpy as np\n",
    "import matplotlib.pyplot as plt\n",
    "from typing import List, Union\n",
    "import statsmodels.api as sm\n",
    "from sklearn.preprocessing import StandardScaler\n",
    "from itertools import product\n",
    "import scipy.stats as sps"
   ]
  },
  {
   "cell_type": "code",
   "execution_count": 6,
   "id": "2e052ca9-3994-4751-b687-99fbe1c0b307",
   "metadata": {},
   "outputs": [],
   "source": [
    "from statsmodels.graphics.tsaplots import plot_acf, plot_pacf\n",
    "from statsmodels.tsa.stattools import adfuller, acf, pacf\n",
    "from statsmodels.tsa.arima.model import ARIMA"
   ]
  },
  {
   "cell_type": "code",
   "execution_count": 11,
   "id": "32ea18f5-78cc-47a1-9358-80a8250cb135",
   "metadata": {},
   "outputs": [],
   "source": [
    "sys.path.insert(1, '../')\n",
    "\n",
    "from source.risk_factors import ArimaFactors"
   ]
  },
  {
   "cell_type": "code",
   "execution_count": 16,
   "id": "f38c5161-57c6-43d1-9498-c2593524b187",
   "metadata": {},
   "outputs": [],
   "source": [
    "all_data = pd.read_csv('../data/all_data.csv').set_index('date')"
   ]
  },
  {
   "cell_type": "markdown",
   "id": "836cd0f4-81c1-42b7-a59c-4b70550b7b61",
   "metadata": {},
   "source": [
    "# Lets check"
   ]
  },
  {
   "cell_type": "code",
   "execution_count": 218,
   "id": "b6fc3306-24d5-43be-a26a-60bd7823b0b8",
   "metadata": {},
   "outputs": [],
   "source": [
    "cur_date = pd.Timestamp('2023-01-01')\n",
    "data = all_data.loc[all_data.index <= str(cur_date.date())][factor_list]\n",
    "\n",
    "factor_list = ['brent', 'aluminum', 'usd_rub']\n",
    "\n",
    "hist_corr = data.corr()"
   ]
  },
  {
   "cell_type": "code",
   "execution_count": 219,
   "id": "70e47241-09d4-4824-b33e-9375d28ad804",
   "metadata": {},
   "outputs": [],
   "source": [
    "arimas = ArimaFactors(\n",
    "    current_date=cur_date,\n",
    "    data = data\n",
    ")\n",
    "\n",
    "arimas.fit()"
   ]
  },
  {
   "cell_type": "code",
   "execution_count": 204,
   "id": "f9ab24ef-1df8-43a7-a222-76826854412d",
   "metadata": {},
   "outputs": [],
   "source": [
    "from importlib import reload\n",
    "from source import simulation_utils\n",
    "reload(simulation_utils);"
   ]
  },
  {
   "cell_type": "markdown",
   "id": "0da304c8-d5a1-448d-a3d6-9b760235a974",
   "metadata": {},
   "source": [
    "# 1 step"
   ]
  },
  {
   "cell_type": "markdown",
   "id": "cb7fbd2d-0302-49cc-aed2-54e254aed9da",
   "metadata": {},
   "source": [
    "\n",
    "На первом шаге можем в принципе семплировать из многомерного нормального, раз все модели Гауссовские\n"
   ]
  },
  {
   "cell_type": "markdown",
   "id": "33dd8fc6-1eb5-4a94-bdaa-249378f3c03e",
   "metadata": {},
   "source": [
    "Как формируем матрицу ковариаций? \n",
    "\n",
    "1. В качестве диагонали матрицы берем оценки дисперсий на нужном шаге из моделей,\n",
    "2. Ковариация i с j: исторические корреляция i и j из обучающей выборки * std i * std j из шага 1\n",
    "\n",
    "\n",
    "см. `simulation_utils.calculate_posterior_cov`"
   ]
  },
  {
   "cell_type": "code",
   "execution_count": 227,
   "id": "fd97e2b4-010f-4a1d-98aa-b1b7d3c8cbce",
   "metadata": {},
   "outputs": [],
   "source": [
    "one_step_means = []\n",
    "one_step_var = []\n",
    "\n",
    "for name in factor_list:\n",
    "\n",
    "    pred = arimas.models[name].get_forecast(steps=1)\n",
    "\n",
    "    one_step_means.append(pred.predicted_mean.values[0])\n",
    "    one_step_var.append(pred.var_pred_mean.values[0])"
   ]
  },
  {
   "cell_type": "code",
   "execution_count": 231,
   "id": "489ce103-2bba-480a-abc4-e6f5acc67bf9",
   "metadata": {},
   "outputs": [
    {
     "data": {
      "text/plain": [
       "array([  85.88133092, 2376.80077962,   72.03841151])"
      ]
     },
     "execution_count": 231,
     "metadata": {},
     "output_type": "execute_result"
    }
   ],
   "source": [
    "# выборка из совместного нормального на шаге 1\n",
    "\n",
    "sample = simulation_utils.sample_multivariate_normal(\n",
    "    factor_list=factor_list,\n",
    "    prior_corr=hist_corr,\n",
    "    est_mean=one_step_means,\n",
    "    est_var=one_step_var, size=5000        \n",
    ")\n",
    "\n",
    "sample.mean(axis=0)"
   ]
  },
  {
   "cell_type": "code",
   "execution_count": 232,
   "id": "2388848e-6f76-40f0-9de0-a13595ac4099",
   "metadata": {},
   "outputs": [
    {
     "data": {
      "text/html": [
       "<div>\n",
       "<style scoped>\n",
       "    .dataframe tbody tr th:only-of-type {\n",
       "        vertical-align: middle;\n",
       "    }\n",
       "\n",
       "    .dataframe tbody tr th {\n",
       "        vertical-align: top;\n",
       "    }\n",
       "\n",
       "    .dataframe thead th {\n",
       "        text-align: right;\n",
       "    }\n",
       "</style>\n",
       "<table border=\"1\" class=\"dataframe\">\n",
       "  <thead>\n",
       "    <tr style=\"text-align: right;\">\n",
       "      <th></th>\n",
       "      <th>brent</th>\n",
       "      <th>aluminum</th>\n",
       "      <th>usd_rub</th>\n",
       "    </tr>\n",
       "    <tr>\n",
       "      <th>date</th>\n",
       "      <th></th>\n",
       "      <th></th>\n",
       "      <th></th>\n",
       "    </tr>\n",
       "  </thead>\n",
       "  <tbody>\n",
       "    <tr>\n",
       "      <th>2023-01-02</th>\n",
       "      <td>85.91</td>\n",
       "      <td>2378.0</td>\n",
       "      <td>71.9778</td>\n",
       "    </tr>\n",
       "    <tr>\n",
       "      <th>2023-01-03</th>\n",
       "      <td>85.91</td>\n",
       "      <td>2378.0</td>\n",
       "      <td>71.9778</td>\n",
       "    </tr>\n",
       "  </tbody>\n",
       "</table>\n",
       "</div>"
      ],
      "text/plain": [
       "            brent  aluminum  usd_rub\n",
       "date                                \n",
       "2023-01-02  85.91    2378.0  71.9778\n",
       "2023-01-03  85.91    2378.0  71.9778"
      ]
     },
     "execution_count": 232,
     "metadata": {},
     "output_type": "execute_result"
    }
   ],
   "source": [
    "all_data[factor_list].loc[all_data.index >= str(cur_date)].head(2)"
   ]
  },
  {
   "cell_type": "markdown",
   "id": "510d7838-e332-4614-be82-9201e0f90cd2",
   "metadata": {},
   "source": [
    "# N steps "
   ]
  },
  {
   "cell_type": "markdown",
   "id": "6685c9fb-720e-4843-b8b4-d4688f6eeb42",
   "metadata": {},
   "source": [
    "Будем на каждом шаге симуляций траекторий факторов брать оценки дисперсий прогнозов и оценивать, насколько адекватно симуляция вписывается в распределение ожидаемых от моделей прогнозов с учетом корреляций \n",
    "\n",
    "Для примера"
   ]
  },
  {
   "cell_type": "code",
   "execution_count": 223,
   "id": "a06b060a-5334-4930-ad90-184735aee087",
   "metadata": {},
   "outputs": [],
   "source": [
    "dist = sps.multivariate_normal(\n",
    "    mean=[0, 0],\n",
    "    cov=np.array([[1, 0.5], [0.5, 1]]),\n",
    ")"
   ]
  },
  {
   "cell_type": "code",
   "execution_count": 224,
   "id": "a0df8e5f-b3bf-4799-a487-1644f78dba51",
   "metadata": {},
   "outputs": [
    {
     "data": {
      "text/plain": [
       "0.09435389770895924"
      ]
     },
     "execution_count": 224,
     "metadata": {},
     "output_type": "execute_result"
    }
   ],
   "source": [
    "dist.pdf([1, 1])"
   ]
  },
  {
   "cell_type": "code",
   "execution_count": 226,
   "id": "62b445cc-439b-4018-8d66-35d746f2e620",
   "metadata": {},
   "outputs": [
    {
     "data": {
      "text/plain": [
       "0.024871417406145683"
      ]
     },
     "execution_count": 226,
     "metadata": {},
     "output_type": "execute_result"
    }
   ],
   "source": [
    "dist.pdf([1, -1])"
   ]
  },
  {
   "cell_type": "markdown",
   "id": "82c29ecb-3497-428c-a5fa-58f7d52343bc",
   "metadata": {},
   "source": [
    "То есть, если факторы скоррелированы, то за разнонаправленные относительно корреляции отклонения от среднего, наш лосс будет \"наказывать\" сильнее, чем за равные по модулю сонаправленные"
   ]
  },
  {
   "cell_type": "markdown",
   "id": "307199b0-5f67-4664-873c-5cd95fde526a",
   "metadata": {},
   "source": [
    "Потестим фукцию для \"вероятности\" траектории"
   ]
  },
  {
   "cell_type": "code",
   "execution_count": 233,
   "id": "3b35ca8c-e070-4370-bb2b-dc862f707bbe",
   "metadata": {},
   "outputs": [],
   "source": [
    "steps = 5\n",
    "mean_series, var_series = arimas.forecast(steps)"
   ]
  },
  {
   "cell_type": "code",
   "execution_count": 235,
   "id": "a644dafa-5cc4-40c9-b1f2-f5a501198d8e",
   "metadata": {},
   "outputs": [],
   "source": [
    "simulations = arimas.simulate(steps)"
   ]
  },
  {
   "cell_type": "markdown",
   "id": "7fadf625-d4db-4839-b9f2-6948da0e903b",
   "metadata": {},
   "source": [
    "Получили траектории трех факторов на 5 шагах"
   ]
  },
  {
   "cell_type": "code",
   "execution_count": 236,
   "id": "c1f29b1e-5e1e-45f9-bac8-279ecb58a2a3",
   "metadata": {},
   "outputs": [
    {
     "data": {
      "text/plain": [
       "-79.56693496365442"
      ]
     },
     "execution_count": 236,
     "metadata": {},
     "output_type": "execute_result"
    }
   ],
   "source": [
    "simulation_utils.calculate_simulation_probability(\n",
    "    factor_list=factor_list,\n",
    "    series_list=simulations,\n",
    "    prior_corr=hist_corr,\n",
    "    est_var=var_series,\n",
    "    est_mean=mean_series,\n",
    "    logging=False,\n",
    "    logreturn=True\n",
    ")"
   ]
  },
  {
   "cell_type": "markdown",
   "id": "4fb280aa-2444-46b1-a8ab-a50a6572345d",
   "metadata": {},
   "source": [
    "Предложенный фильтр: \n",
    "\n",
    "Мы не можем использовать полученные от `simulation_utils.calculate_simulation_probability`, как полноценные вероятности, но при этом, можем использовать как некоторую меру, лосс\n",
    "\n",
    "Т. к. quantile не веротяностная характеристика, а скорее уже гиперпараметр, его нужно по-хорошему отдельно калибровать"
   ]
  },
  {
   "cell_type": "code",
   "execution_count": 237,
   "id": "ca429976-8bc4-48ca-981d-fa0217b4d19e",
   "metadata": {},
   "outputs": [
    {
     "name": "stdout",
     "output_type": "stream",
     "text": [
      "def simulated_series_selection(\n",
      "    factor_list: list,\n",
      "    simulations: List[List[np.array]], # M iterations for N days for K factors\n",
      "    prior_cov: pd.DataFrame,\n",
      "    est_var: List[np.array],\n",
      "    est_mean: List[np.array],\n",
      "    threshold=None,\n",
      "    quantile=0.05,\n",
      "):\n",
      "    \"\"\"\n",
      "    Drops <quantile>% less likely simulations depending\n",
      "    \"\"\"\n",
      "    \n",
      "    NUM_SIM = len(simulations)\n",
      "    probs = [0] * NUM_SIM\n",
      "    \n",
      "    for sim in range(NUM_SIM):\n",
      "        \n",
      "        probs[sim] = calculate_simulation_probability(\n",
      "            factor_list,\n",
      "            simulations[sim],\n",
      "            prior_cov,\n",
      "            est_var,\n",
      "            est_mean,\n",
      "            logging=False,\n",
      "            logreturn=True\n",
      "        )\n",
      "\n",
      "    threshold = np.quantile(probs, quantile)\n",
      "    \n",
      "    for sim in range(NUM_SIM):\n",
      "        if probs[sim] >= threshold:\n",
      "            yield simulations[sim]\n",
      "\n"
     ]
    }
   ],
   "source": [
    "import inspect\n",
    "print(inspect.getsource(simulation_utils.simulated_series_selection))"
   ]
  },
  {
   "cell_type": "markdown",
   "id": "92049ace-d75c-42ce-859d-d7c6e5449189",
   "metadata": {},
   "source": [
    "Посмотрим на симуляцих наших моделей"
   ]
  },
  {
   "cell_type": "code",
   "execution_count": 274,
   "id": "13e11026-5ca6-4568-b643-2a21d329c1af",
   "metadata": {},
   "outputs": [],
   "source": [
    "n_sim = 1000\n",
    "n_steps = 10\n",
    "\n",
    "simulations_list = [\n",
    "    arimas.simulate(n_steps) for _ in range(n_sim)\n",
    "]\n",
    "\n",
    "means, vars = arimas.forecast(n_steps)\n",
    "\n",
    "\n",
    "prob_loss = [\n",
    "    simulation_utils.calculate_simulation_probability(\n",
    "        factor_list=factor_list,\n",
    "        series_list=i,\n",
    "        prior_corr=hist_corr,\n",
    "        est_var=vars,\n",
    "        est_mean=means,\n",
    "        logging=False,\n",
    "        logreturn=True\n",
    "    ) for i in simulations_list\n",
    "]"
   ]
  },
  {
   "cell_type": "code",
   "execution_count": 275,
   "id": "877c0d7e-ae11-4304-8b40-4c6a886d214a",
   "metadata": {},
   "outputs": [],
   "source": [
    "sorted_sims = list(\n",
    "    sorted(\n",
    "        zip(\n",
    "            prob_loss,\n",
    "            simulations_list\n",
    "        ),\n",
    "        key=lambda x: x[0]\n",
    "    )\n",
    ")"
   ]
  },
  {
   "cell_type": "code",
   "execution_count": 276,
   "id": "a8a64e64-6922-4c4e-a914-2e269c157750",
   "metadata": {},
   "outputs": [],
   "source": [
    "# отскалируем данные чтобы их было можно отрисовать\n",
    "scaler = StandardScaler().fit(data)"
   ]
  },
  {
   "cell_type": "code",
   "execution_count": 281,
   "id": "e969d63f-c62a-461f-b70c-22683aaadd83",
   "metadata": {},
   "outputs": [
    {
     "data": {
      "image/png": "[encoded data removed]",
      "text/plain": [
       "<Figure size 640x480 with 1 Axes>"
      ]
     },
     "metadata": {},
     "output_type": "display_data"
    }
   ],
   "source": [
    "import matplotlib.pyplot as plt\n",
    "\n",
    "\n",
    "to_plot = pd.DataFrame(scaler.transform(np.array(sorted_sims[0][1]).T), columns=factor_list)\n",
    "to_plot.plot();\n",
    "plt.title('Самые \"неправдоподобные\"');"
   ]
  },
  {
   "cell_type": "code",
   "execution_count": 283,
   "id": "de32e4e2-99d0-4768-b7f3-c27a4b442db8",
   "metadata": {},
   "outputs": [
    {
     "data": {
      "image/png": "[encoded data removed]",
      "text/plain": [
       "<Figure size 640x480 with 1 Axes>"
      ]
     },
     "metadata": {},
     "output_type": "display_data"
    }
   ],
   "source": [
    "import matplotlib.pyplot as plt\n",
    "\n",
    "\n",
    "to_plot = pd.DataFrame(scaler.transform(np.array(sorted_sims[-1][1]).T), columns=factor_list)\n",
    "to_plot.plot();\n",
    "plt.title('Самые \"правдоподобные\"');"
   ]
  },
  {
   "cell_type": "code",
   "execution_count": 284,
   "id": "39141c9e-e377-4527-b44c-cbbda99fb738",
   "metadata": {},
   "outputs": [
    {
     "data": {
      "text/html": [
       "<div>\n",
       "<style scoped>\n",
       "    .dataframe tbody tr th:only-of-type {\n",
       "        vertical-align: middle;\n",
       "    }\n",
       "\n",
       "    .dataframe tbody tr th {\n",
       "        vertical-align: top;\n",
       "    }\n",
       "\n",
       "    .dataframe thead th {\n",
       "        text-align: right;\n",
       "    }\n",
       "</style>\n",
       "<table border=\"1\" class=\"dataframe\">\n",
       "  <thead>\n",
       "    <tr style=\"text-align: right;\">\n",
       "      <th></th>\n",
       "      <th>brent</th>\n",
       "      <th>aluminum</th>\n",
       "      <th>usd_rub</th>\n",
       "    </tr>\n",
       "  </thead>\n",
       "  <tbody>\n",
       "    <tr>\n",
       "      <th>brent</th>\n",
       "      <td>1.000000</td>\n",
       "      <td>0.820272</td>\n",
       "      <td>-0.350326</td>\n",
       "    </tr>\n",
       "    <tr>\n",
       "      <th>aluminum</th>\n",
       "      <td>0.820272</td>\n",
       "      <td>1.000000</td>\n",
       "      <td>0.155451</td>\n",
       "    </tr>\n",
       "    <tr>\n",
       "      <th>usd_rub</th>\n",
       "      <td>-0.350326</td>\n",
       "      <td>0.155451</td>\n",
       "      <td>1.000000</td>\n",
       "    </tr>\n",
       "  </tbody>\n",
       "</table>\n",
       "</div>"
      ],
      "text/plain": [
       "             brent  aluminum   usd_rub\n",
       "brent     1.000000  0.820272 -0.350326\n",
       "aluminum  0.820272  1.000000  0.155451\n",
       "usd_rub  -0.350326  0.155451  1.000000"
      ]
     },
     "execution_count": 284,
     "metadata": {},
     "output_type": "execute_result"
    }
   ],
   "source": [
    "hist_corr"
   ]
  },
  {
   "cell_type": "markdown",
   "id": "e7e0e826-3733-4df3-a13f-8da57134b206",
   "metadata": {},
   "source": [
    "Вот на этом примере +/- можно проследить нашу логику: цены алюминий и нефть по нашим историческим данным сильно скоррелированы\n",
    "\n",
    "Поэтому сценарий где они расходятся в противоположных направлениях рассматривается как менее вероятный"
   ]
  },
  {
   "cell_type": "code",
   "execution_count": null,
   "id": "9c55bf51-027d-43dc-b947-378de1096510",
   "metadata": {},
   "outputs": [],
   "source": []
  },
  {
   "cell_type": "code",
   "execution_count": null,
   "id": "7153f70f-f372-4e52-8828-0c4e250a6caa",
   "metadata": {},
   "outputs": [],
   "source": []
  }
 ],
 "metadata": {
  "kernelspec": {
   "display_name": "Python 3 (ipykernel)",
   "language": "python",
   "name": "python3"
  },
  "language_info": {
   "codemirror_mode": {
    "name": "ipython",
    "version": 3
   },
   "file_extension": ".py",
   "mimetype": "text/x-python",
   "name": "python",
   "nbconvert_exporter": "python",
   "pygments_lexer": "ipython3",
   "version": "3.10.11"
  }
 },
 "nbformat": 4,
 "nbformat_minor": 5
}
