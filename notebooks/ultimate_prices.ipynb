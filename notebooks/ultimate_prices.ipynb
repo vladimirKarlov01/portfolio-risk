{
 "cells": [
  {
   "metadata": {},
   "cell_type": "markdown",
   "source": "# Ultimate prices dataset",
   "id": "1e75e7c521f9e8b1"
  },
  {
   "metadata": {
    "ExecuteTime": {
     "end_time": "2024-06-16T18:26:24.328035Z",
     "start_time": "2024-06-16T18:26:23.892668Z"
    }
   },
   "cell_type": "code",
   "source": [
    "import os\n",
    "import pandas as pd\n",
    "import warnings\n",
    "\n",
    "from data import DATA_PATH"
   ],
   "id": "initial_id",
   "outputs": [],
   "execution_count": 1
  },
  {
   "metadata": {
    "ExecuteTime": {
     "end_time": "2024-06-16T18:26:24.330603Z",
     "start_time": "2024-06-16T18:26:24.328954Z"
    }
   },
   "cell_type": "code",
   "source": "warnings.filterwarnings('ignore')",
   "id": "425d9472d30d3e2",
   "outputs": [],
   "execution_count": 2
  },
  {
   "metadata": {},
   "cell_type": "markdown",
   "source": "### Read stocks data",
   "id": "215384dd7875b068"
  },
  {
   "metadata": {
    "ExecuteTime": {
     "end_time": "2024-06-16T18:42:43.439660Z",
     "start_time": "2024-06-16T18:42:42.680348Z"
    }
   },
   "cell_type": "code",
   "source": [
    "stocks_path = DATA_PATH / 'stocks'\n",
    "\n",
    "def _process_stock_dataset(filename: str) -> pd.DataFrame:\n",
    "    data = pd.read_excel(stocks_path / filename, skiprows=1)\n",
    "    ticker = filename.split('_')[0].upper()\n",
    "    data = (\n",
    "        data.rename(columns={'Дата': 'date', 'Закрытие': 'price'})\n",
    "        .astype({'date': str})\n",
    "        .assign(ticker=ticker)\n",
    "        [['date', 'ticker', 'price']]\n",
    "    )\n",
    "    return data\n",
    "\n",
    "stock_datasets = [\n",
    "    _process_stock_dataset(filename)\n",
    "    for filename in os.listdir(stocks_path)\n",
    "    if '.xlsx' in filename\n",
    "]"
   ],
   "id": "72273284a8679655",
   "outputs": [],
   "execution_count": 16
  },
  {
   "metadata": {},
   "cell_type": "markdown",
   "source": "### Read bonds data",
   "id": "850cef347c4e2923"
  },
  {
   "metadata": {
    "ExecuteTime": {
     "end_time": "2024-06-16T18:42:43.559629Z",
     "start_time": "2024-06-16T18:42:43.441407Z"
    }
   },
   "cell_type": "code",
   "source": [
    "bonds_path = DATA_PATH / 'bonds'\n",
    "\n",
    "def _process_bond_dataset(filename: str) -> pd.DataFrame:\n",
    "    data = pd.read_csv(bonds_path / filename)\n",
    "    data = (\n",
    "        data.rename(columns={'<DATE>': 'date', '<TICKER>': 'ticker', '<CLOSE>': 'price'})\n",
    "        .assign(date=lambda df: pd.to_datetime(df['date'], dayfirst=True).dt.date.astype('str'))\n",
    "        .assign(price=lambda df: df['price'].multiply(100))  # convert to abs value\n",
    "        [['date', 'ticker', 'price']]\n",
    "    )\n",
    "    return data\n",
    "\n",
    "bond_datasets = [\n",
    "    _process_bond_dataset(filename)\n",
    "    for filename in os.listdir(bonds_path)\n",
    "    if '.csv' in filename\n",
    "]"
   ],
   "id": "19b4ed5326a74ca4",
   "outputs": [],
   "execution_count": 17
  },
  {
   "metadata": {},
   "cell_type": "markdown",
   "source": "### Read FX data",
   "id": "64b471423ef35538"
  },
  {
   "metadata": {
    "ExecuteTime": {
     "end_time": "2024-06-16T18:42:43.612517Z",
     "start_time": "2024-06-16T18:42:43.560347Z"
    }
   },
   "cell_type": "code",
   "source": [
    "fx_path = DATA_PATH / 'risk_factors'\n",
    "\n",
    "def _process_fx_dataset(filename: str) -> pd.DataFrame:\n",
    "    data = pd.read_excel(fx_path / filename)\n",
    "    ticker = filename.split('.')[0].upper()\n",
    "    data = (\n",
    "        data.rename(columns={'Дата': 'date', 'Курс': 'price'})\n",
    "        .astype({'date': str})\n",
    "        .assign(ticker=ticker)\n",
    "    )\n",
    "    return data\n",
    "\n",
    "fx_datasets = [\n",
    "    _process_fx_dataset(filename)\n",
    "    for filename in ('eur_rub.xlsx', 'usd_rub.xlsx')\n",
    "]"
   ],
   "id": "3bdf419c43238775",
   "outputs": [],
   "execution_count": 18
  },
  {
   "metadata": {},
   "cell_type": "markdown",
   "source": "### Check data quality",
   "id": "f934c50b86ec99fd"
  },
  {
   "metadata": {
    "ExecuteTime": {
     "end_time": "2024-06-16T18:43:40.043075Z",
     "start_time": "2024-06-16T18:43:40.007560Z"
    }
   },
   "cell_type": "code",
   "source": [
    "all_datasets = stock_datasets + bond_datasets + fx_datasets\n",
    "prices_df = (\n",
    "    pd.concat(all_datasets)\n",
    "    .set_index(['date', 'ticker'])\n",
    "    .dropna()\n",
    "    .sort_index()\n",
    ")"
   ],
   "id": "30e94700e185f9bc",
   "outputs": [],
   "execution_count": 26
  },
  {
   "metadata": {
    "ExecuteTime": {
     "end_time": "2024-06-16T18:43:40.259904Z",
     "start_time": "2024-06-16T18:43:40.252827Z"
    }
   },
   "cell_type": "code",
   "source": "prices_df.tail()",
   "id": "42a469e190634726",
   "outputs": [
    {
     "data": {
      "text/plain": [
       "                      price\n",
       "date       ticker          \n",
       "2023-12-30 USD_RUB  89.6883\n",
       "2023-12-31 EUR_RUB  99.1919\n",
       "           USD_RUB  89.6883\n",
       "2024-01-01 EUR_RUB  99.1919\n",
       "           USD_RUB  89.6883"
      ],
      "text/html": [
       "<div>\n",
       "<style scoped>\n",
       "    .dataframe tbody tr th:only-of-type {\n",
       "        vertical-align: middle;\n",
       "    }\n",
       "\n",
       "    .dataframe tbody tr th {\n",
       "        vertical-align: top;\n",
       "    }\n",
       "\n",
       "    .dataframe thead th {\n",
       "        text-align: right;\n",
       "    }\n",
       "</style>\n",
       "<table border=\"1\" class=\"dataframe\">\n",
       "  <thead>\n",
       "    <tr style=\"text-align: right;\">\n",
       "      <th></th>\n",
       "      <th></th>\n",
       "      <th>price</th>\n",
       "    </tr>\n",
       "    <tr>\n",
       "      <th>date</th>\n",
       "      <th>ticker</th>\n",
       "      <th></th>\n",
       "    </tr>\n",
       "  </thead>\n",
       "  <tbody>\n",
       "    <tr>\n",
       "      <th>2023-12-30</th>\n",
       "      <th>USD_RUB</th>\n",
       "      <td>89.6883</td>\n",
       "    </tr>\n",
       "    <tr>\n",
       "      <th rowspan=\"2\" valign=\"top\">2023-12-31</th>\n",
       "      <th>EUR_RUB</th>\n",
       "      <td>99.1919</td>\n",
       "    </tr>\n",
       "    <tr>\n",
       "      <th>USD_RUB</th>\n",
       "      <td>89.6883</td>\n",
       "    </tr>\n",
       "    <tr>\n",
       "      <th rowspan=\"2\" valign=\"top\">2024-01-01</th>\n",
       "      <th>EUR_RUB</th>\n",
       "      <td>99.1919</td>\n",
       "    </tr>\n",
       "    <tr>\n",
       "      <th>USD_RUB</th>\n",
       "      <td>89.6883</td>\n",
       "    </tr>\n",
       "  </tbody>\n",
       "</table>\n",
       "</div>"
      ]
     },
     "execution_count": 27,
     "metadata": {},
     "output_type": "execute_result"
    }
   ],
   "execution_count": 27
  },
  {
   "metadata": {
    "ExecuteTime": {
     "end_time": "2024-06-16T18:43:40.872256Z",
     "start_time": "2024-06-16T18:43:40.869882Z"
    }
   },
   "cell_type": "code",
   "source": "prices_df.shape",
   "id": "4d165a25caefddde",
   "outputs": [
    {
     "data": {
      "text/plain": [
       "(17278, 1)"
      ]
     },
     "execution_count": 28,
     "metadata": {},
     "output_type": "execute_result"
    }
   ],
   "execution_count": 28
  },
  {
   "metadata": {
    "ExecuteTime": {
     "end_time": "2024-06-16T18:43:41.280899Z",
     "start_time": "2024-06-16T18:43:41.277967Z"
    }
   },
   "cell_type": "code",
   "source": [
    "N_STOCKS = 10\n",
    "N_BONDS = 5\n",
    "N_CCY_PAIRS = 2"
   ],
   "id": "962ab04745b06c0b",
   "outputs": [],
   "execution_count": 29
  },
  {
   "metadata": {
    "ExecuteTime": {
     "end_time": "2024-06-16T18:43:41.868107Z",
     "start_time": "2024-06-16T18:43:41.852342Z"
    }
   },
   "cell_type": "code",
   "source": [
    "is_all_prices_on_date = (prices_df.groupby('date').count() == N_STOCKS + N_BONDS + N_CCY_PAIRS)\n",
    "dates_to_drop = is_all_prices_on_date[~is_all_prices_on_date.values].index.to_list()\n",
    "prices_df = prices_df.drop(dates_to_drop)"
   ],
   "id": "df6b441bf97af448",
   "outputs": [],
   "execution_count": 30
  },
  {
   "metadata": {
    "ExecuteTime": {
     "end_time": "2024-06-16T18:43:42.502064Z",
     "start_time": "2024-06-16T18:43:42.498258Z"
    }
   },
   "cell_type": "code",
   "source": "prices_df.shape",
   "id": "254474ceda5c1e9d",
   "outputs": [
    {
     "data": {
      "text/plain": [
       "(15980, 1)"
      ]
     },
     "execution_count": 31,
     "metadata": {},
     "output_type": "execute_result"
    }
   ],
   "execution_count": 31
  },
  {
   "metadata": {},
   "cell_type": "markdown",
   "source": "### Save dataset",
   "id": "a027993950f49a8d"
  },
  {
   "metadata": {
    "ExecuteTime": {
     "end_time": "2024-06-16T18:43:44.354061Z",
     "start_time": "2024-06-16T18:43:44.278444Z"
    }
   },
   "cell_type": "code",
   "source": "prices_df.to_csv(DATA_PATH / 'prices.csv')",
   "id": "7f662bb2878b8be4",
   "outputs": [],
   "execution_count": 32
  },
  {
   "metadata": {},
   "cell_type": "code",
   "outputs": [],
   "execution_count": null,
   "source": "",
   "id": "6bb19d2d009b1cd4"
  }
 ],
 "metadata": {
  "kernelspec": {
   "display_name": "Python 3",
   "language": "python",
   "name": "python3"
  },
  "language_info": {
   "codemirror_mode": {
    "name": "ipython",
    "version": 2
   },
   "file_extension": ".py",
   "mimetype": "text/x-python",
   "name": "python",
   "nbconvert_exporter": "python",
   "pygments_lexer": "ipython2",
   "version": "2.7.6"
  }
 },
 "nbformat": 4,
 "nbformat_minor": 5
}
