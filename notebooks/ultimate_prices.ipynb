{
 "cells": [
  {
   "metadata": {},
   "cell_type": "markdown",
   "source": "# Ultimate prices dataset",
   "id": "1e75e7c521f9e8b1"
  },
  {
   "metadata": {
    "ExecuteTime": {
     "end_time": "2024-06-16T02:15:29.328040Z",
     "start_time": "2024-06-16T02:15:29.321422Z"
    }
   },
   "cell_type": "code",
   "source": [
    "import os\n",
    "import pandas as pd\n",
    "import warnings\n",
    "\n",
    "from data import DATA_PATH"
   ],
   "id": "initial_id",
   "outputs": [],
   "execution_count": 77
  },
  {
   "metadata": {
    "ExecuteTime": {
     "end_time": "2024-06-16T02:15:29.631183Z",
     "start_time": "2024-06-16T02:15:29.627824Z"
    }
   },
   "cell_type": "code",
   "source": "warnings.filterwarnings('ignore')",
   "id": "425d9472d30d3e2",
   "outputs": [],
   "execution_count": 78
  },
  {
   "metadata": {},
   "cell_type": "markdown",
   "source": "### Read stocks data",
   "id": "215384dd7875b068"
  },
  {
   "metadata": {
    "ExecuteTime": {
     "end_time": "2024-06-16T02:15:37.928281Z",
     "start_time": "2024-06-16T02:15:37.118358Z"
    }
   },
   "cell_type": "code",
   "source": [
    "stocks_path = DATA_PATH / 'stocks'\n",
    "\n",
    "def _process_stock_dataset(filename: str) -> pd.DataFrame:\n",
    "    data = pd.read_excel(stocks_path / filename, skiprows=1)\n",
    "    ticker = filename.split('.')[0]\n",
    "    data = (\n",
    "        data.rename(columns={'Дата': 'date', 'Закрытие': 'price'})\n",
    "        .astype({'date': str})\n",
    "        .assign(ticker=ticker)\n",
    "        [['date', 'ticker', 'price']]\n",
    "    )\n",
    "    return data\n",
    "\n",
    "stock_datasets = [\n",
    "    _process_stock_dataset(filename)\n",
    "    for filename in os.listdir(stocks_path)\n",
    "    if '.xlsx' in filename\n",
    "]"
   ],
   "id": "72273284a8679655",
   "outputs": [],
   "execution_count": 79
  },
  {
   "metadata": {},
   "cell_type": "markdown",
   "source": "### Read bonds data",
   "id": "850cef347c4e2923"
  },
  {
   "metadata": {
    "ExecuteTime": {
     "end_time": "2024-06-16T02:15:39.927909Z",
     "start_time": "2024-06-16T02:15:39.772887Z"
    }
   },
   "cell_type": "code",
   "source": [
    "bonds_path = DATA_PATH / 'bonds'\n",
    "\n",
    "def _process_bond_dataset(filename: str) -> pd.DataFrame:\n",
    "    data = pd.read_csv(bonds_path / filename)\n",
    "    data = (\n",
    "        data.rename(columns={'<DATE>': 'date', '<TICKER>': 'ticker', '<CLOSE>': 'price'})\n",
    "        .assign(date=lambda df: pd.to_datetime(df['date'], dayfirst=True).dt.date.astype('str'))\n",
    "        .assign(price=lambda df: df['price'].multiply(100))  # convert to abs value\n",
    "        [['date', 'ticker', 'price']]\n",
    "    )\n",
    "    return data\n",
    "\n",
    "bond_datasets = [\n",
    "    _process_bond_dataset(filename)\n",
    "    for filename in os.listdir(bonds_path)\n",
    "    if '.csv' in filename\n",
    "]"
   ],
   "id": "19b4ed5326a74ca4",
   "outputs": [],
   "execution_count": 80
  },
  {
   "metadata": {},
   "cell_type": "markdown",
   "source": "### Check data quality",
   "id": "f934c50b86ec99fd"
  },
  {
   "metadata": {
    "ExecuteTime": {
     "end_time": "2024-06-16T02:19:12.647094Z",
     "start_time": "2024-06-16T02:19:12.607597Z"
    }
   },
   "cell_type": "code",
   "source": [
    "all_datasets = stock_datasets + bond_datasets\n",
    "prices_df = (\n",
    "    pd.concat(all_datasets)\n",
    "    .set_index(['date', 'ticker'])\n",
    "    .dropna()\n",
    ")"
   ],
   "id": "30e94700e185f9bc",
   "outputs": [],
   "execution_count": 109
  },
  {
   "metadata": {
    "ExecuteTime": {
     "end_time": "2024-06-16T02:19:13.060843Z",
     "start_time": "2024-06-16T02:19:13.055224Z"
    }
   },
   "cell_type": "code",
   "source": "prices_df.tail()",
   "id": "42a469e190634726",
   "outputs": [
    {
     "data": {
      "text/plain": [
       "                          price\n",
       "date       ticker              \n",
       "2023-12-25 SU26221RMFS0  7882.9\n",
       "2023-12-26 SU26221RMFS0  7859.9\n",
       "2023-12-27 SU26221RMFS0  7845.3\n",
       "2023-12-28 SU26221RMFS0  7845.0\n",
       "2023-12-29 SU26221RMFS0  7882.1"
      ],
      "text/html": [
       "<div>\n",
       "<style scoped>\n",
       "    .dataframe tbody tr th:only-of-type {\n",
       "        vertical-align: middle;\n",
       "    }\n",
       "\n",
       "    .dataframe tbody tr th {\n",
       "        vertical-align: top;\n",
       "    }\n",
       "\n",
       "    .dataframe thead th {\n",
       "        text-align: right;\n",
       "    }\n",
       "</style>\n",
       "<table border=\"1\" class=\"dataframe\">\n",
       "  <thead>\n",
       "    <tr style=\"text-align: right;\">\n",
       "      <th></th>\n",
       "      <th></th>\n",
       "      <th>price</th>\n",
       "    </tr>\n",
       "    <tr>\n",
       "      <th>date</th>\n",
       "      <th>ticker</th>\n",
       "      <th></th>\n",
       "    </tr>\n",
       "  </thead>\n",
       "  <tbody>\n",
       "    <tr>\n",
       "      <th>2023-12-25</th>\n",
       "      <th>SU26221RMFS0</th>\n",
       "      <td>7882.9</td>\n",
       "    </tr>\n",
       "    <tr>\n",
       "      <th>2023-12-26</th>\n",
       "      <th>SU26221RMFS0</th>\n",
       "      <td>7859.9</td>\n",
       "    </tr>\n",
       "    <tr>\n",
       "      <th>2023-12-27</th>\n",
       "      <th>SU26221RMFS0</th>\n",
       "      <td>7845.3</td>\n",
       "    </tr>\n",
       "    <tr>\n",
       "      <th>2023-12-28</th>\n",
       "      <th>SU26221RMFS0</th>\n",
       "      <td>7845.0</td>\n",
       "    </tr>\n",
       "    <tr>\n",
       "      <th>2023-12-29</th>\n",
       "      <th>SU26221RMFS0</th>\n",
       "      <td>7882.1</td>\n",
       "    </tr>\n",
       "  </tbody>\n",
       "</table>\n",
       "</div>"
      ]
     },
     "execution_count": 110,
     "metadata": {},
     "output_type": "execute_result"
    }
   ],
   "execution_count": 110
  },
  {
   "metadata": {
    "ExecuteTime": {
     "end_time": "2024-06-16T02:19:17.268811Z",
     "start_time": "2024-06-16T02:19:17.262408Z"
    }
   },
   "cell_type": "code",
   "source": "prices_df.shape",
   "id": "4d165a25caefddde",
   "outputs": [
    {
     "data": {
      "text/plain": [
       "(14906, 1)"
      ]
     },
     "execution_count": 111,
     "metadata": {},
     "output_type": "execute_result"
    }
   ],
   "execution_count": 111
  },
  {
   "metadata": {
    "ExecuteTime": {
     "end_time": "2024-06-16T02:27:34.160069Z",
     "start_time": "2024-06-16T02:27:34.111965Z"
    }
   },
   "cell_type": "code",
   "source": [
    "N_STOCKS = 10\n",
    "N_BONDS = 5\n",
    "is_all_prices_on_date = (prices_df.groupby('date').count() == N_STOCKS + N_BONDS)\n",
    "dates_to_drop = is_all_prices_on_date[~is_all_prices_on_date.values].index.to_list()\n",
    "prices_df = prices_df.drop(dates_to_drop)"
   ],
   "id": "962ab04745b06c0b",
   "outputs": [],
   "execution_count": 141
  },
  {
   "metadata": {
    "ExecuteTime": {
     "end_time": "2024-06-16T02:27:41.049186Z",
     "start_time": "2024-06-16T02:27:41.035921Z"
    }
   },
   "cell_type": "code",
   "source": "prices_df.shape",
   "id": "254474ceda5c1e9d",
   "outputs": [
    {
     "data": {
      "text/plain": [
       "(14835, 1)"
      ]
     },
     "execution_count": 142,
     "metadata": {},
     "output_type": "execute_result"
    }
   ],
   "execution_count": 142
  },
  {
   "metadata": {},
   "cell_type": "markdown",
   "source": "### Save dataset",
   "id": "a027993950f49a8d"
  },
  {
   "metadata": {
    "ExecuteTime": {
     "end_time": "2024-06-16T02:28:21.302084Z",
     "start_time": "2024-06-16T02:28:21.263216Z"
    }
   },
   "cell_type": "code",
   "source": "prices_df.to_csv(DATA_PATH / 'dwh/prices.csv')",
   "id": "7f662bb2878b8be4",
   "outputs": [],
   "execution_count": 144
  },
  {
   "metadata": {},
   "cell_type": "code",
   "outputs": [],
   "execution_count": null,
   "source": "",
   "id": "6bb19d2d009b1cd4"
  }
 ],
 "metadata": {
  "kernelspec": {
   "display_name": "Python 3",
   "language": "python",
   "name": "python3"
  },
  "language_info": {
   "codemirror_mode": {
    "name": "ipython",
    "version": 2
   },
   "file_extension": ".py",
   "mimetype": "text/x-python",
   "name": "python",
   "nbconvert_exporter": "python",
   "pygments_lexer": "ipython2",
   "version": "2.7.6"
  }
 },
 "nbformat": 4,
 "nbformat_minor": 5
}
