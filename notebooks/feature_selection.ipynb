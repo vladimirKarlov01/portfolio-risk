{
 "cells": [
  {
   "cell_type": "code",
   "execution_count": 10,
   "metadata": {},
   "outputs": [],
   "source": [
    "import pandas as pd\n",
    "import numpy as np\n",
    "from sklearn.feature_selection import mutual_info_regression\n"
   ]
  },
  {
   "cell_type": "code",
   "execution_count": 6,
   "metadata": {},
   "outputs": [],
   "source": [
    "all_data = pd.read_csv('../data/all_data.csv').drop('Unnamed: 0', axis=1)"
   ]
  },
  {
   "cell_type": "code",
   "execution_count": 8,
   "metadata": {},
   "outputs": [
    {
     "data": {
      "text/plain": [
       "Index(['date', 'aluminum', 'brent', 'cbr_key_rate', 'eur_rub', 'moex_index',\n",
       "       'nickel', 'rtsi', 'usd_rub', 'su26218', 'su26221', 'su26222', 'su26224',\n",
       "       'su26230', 'gazp', 'gmkn', 'lkoh', 'magn', 'mgnt', 'moex', 'rosn',\n",
       "       'rual', 'sber', 'vtbr'],\n",
       "      dtype='object')"
      ]
     },
     "execution_count": 8,
     "metadata": {},
     "output_type": "execute_result"
    }
   ],
   "source": [
    "all_data.columns"
   ]
  },
  {
   "cell_type": "code",
   "execution_count": 14,
   "metadata": {},
   "outputs": [],
   "source": [
    "risk_factors_dtc ={\n",
    "'sber': [], #сбер\n",
    "'vtbr': [], #втб\n",
    "'rual': [], #русал\n",
    "'rosn': ['brent', 'eur_rub', 'usd_rub'], #роснефть\n",
    "'moex': [], #мосбиржа\n",
    "'mgnt': [], #магнит\n",
    "'magn': [], #ММК\n",
    "'lkoh': [], #лукойл\n",
    "'gmkn': [], #гмк норникель\n",
    "'gazp': [] #газпром\n",
    "\n",
    "}"
   ]
  },
  {
   "cell_type": "code",
   "execution_count": 63,
   "metadata": {},
   "outputs": [],
   "source": [
    "def calc_mutual_info(y, X):\n",
    "    \"\"\"\n",
    "    Selects top N features by Mutual Information with target\n",
    "    \"\"\"\n",
    "    # determine the mutual information\n",
    "    mutual_info = mutual_info_regression(X.fillna(0), y)\n",
    "    mutual_info = pd.Series(mutual_info)\n",
    "    mutual_info.index = X.columns\n",
    "    return list(mutual_info.sort_values(ascending=False).index)"
   ]
  },
  {
   "cell_type": "code",
   "execution_count": 78,
   "metadata": {},
   "outputs": [],
   "source": [
    "def select_risk_factors(factor, risk_factors_list):\n",
    "    \"\"\"\n",
    "    Функция принимает на вход колонку-название актива и список его возможных риск-факторов из словаря \n",
    "    Отсеиваются факторы с корреляцией между фактором и таргетом < 0.05\n",
    "    Смотрится взаимная корреляция факторов, если она превышает 0.9, то оставляется один фактор с наибольшей MI с таргетом\n",
    "    \"\"\"\n",
    "    target = all_data[factor].values\n",
    "    risk_factors = all_data[risk_factors_list]\n",
    "    drop_list_idx = []\n",
    "    corr_list = []\n",
    "    #считаем обычную корреляцию с таргетом\n",
    "    for i in range(len(risk_factors.columns)):\n",
    "        corr_with_target = np.corrcoef(x = risk_factors[risk_factors_list[i]].values, y = target)[0][1]\n",
    "        corr_list.append(corr_with_target)\n",
    "        if corr_with_target < 0.05: #дропаем, если меньше 0.05\n",
    "            drop_list_idx.append(i)\n",
    "    \n",
    "    #ранжируем фичи по MI с таргетом\n",
    "    top_mutual_information_list = calc_mutual_info(target, risk_factors)\n",
    "\n",
    "    #смотрим взаимную корреляцию фичей\n",
    "    mutual_correlation = np.corrcoef(x = risk_factors, rowvar=False)\n",
    "    a = np.where(mutual_correlation >= 0.9)[0]\n",
    "    b = np.where(mutual_correlation >= 0.9)[1]\n",
    "    correlated_features = []\n",
    "    for i in range(len(a)):\n",
    "        if a[i]!= b[i]:\n",
    "            correlated_features.append(tuple(sorted([a[i], b[i]])))\n",
    "    correlated_features = set(correlated_features) #тут сет пар индексов скоррелированных фичей\n",
    "\n",
    "    for pair in correlated_features: #смотрим, какая из фичей из пары на каком месте в ранжированном списке MI\n",
    "        mi_1 =np.where(np.array(top_mutual_information_list) == risk_factors.columns[pair[0]]) \n",
    "        mi_2 =np.where(np.array(top_mutual_information_list) == risk_factors.columns[pair[1]])\n",
    "\n",
    "        if mi_1 > mi_2: #если первый признак из пары менее связан с таргетом (дальше от начала списка MI)\n",
    "            drop_list_idx.append(pair[0]) #дропаем первый признак\n",
    "        else:\n",
    "            drop_list_idx.append(pair[1])\n",
    "    \n",
    "    drop_list_names = list(risk_factors[risk_factors.columns[drop_list_idx]].columns)\n",
    "    print(drop_list_names)\n",
    "    return all_data[[factor] + risk_factors_list].drop(drop_list_names, axis=1)\n",
    "        "
   ]
  },
  {
   "cell_type": "code",
   "execution_count": 79,
   "metadata": {},
   "outputs": [
    {
     "name": "stdout",
     "output_type": "stream",
     "text": [
      "['usd_rub']\n"
     ]
    },
    {
     "data": {
      "text/html": [
       "<div>\n",
       "<style scoped>\n",
       "    .dataframe tbody tr th:only-of-type {\n",
       "        vertical-align: middle;\n",
       "    }\n",
       "\n",
       "    .dataframe tbody tr th {\n",
       "        vertical-align: top;\n",
       "    }\n",
       "\n",
       "    .dataframe thead th {\n",
       "        text-align: right;\n",
       "    }\n",
       "</style>\n",
       "<table border=\"1\" class=\"dataframe\">\n",
       "  <thead>\n",
       "    <tr style=\"text-align: right;\">\n",
       "      <th></th>\n",
       "      <th>rosn</th>\n",
       "      <th>brent</th>\n",
       "      <th>eur_rub</th>\n",
       "    </tr>\n",
       "  </thead>\n",
       "  <tbody>\n",
       "    <tr>\n",
       "      <th>0</th>\n",
       "      <td>473.50</td>\n",
       "      <td>65.02</td>\n",
       "      <td>68.0555</td>\n",
       "    </tr>\n",
       "    <tr>\n",
       "      <th>1</th>\n",
       "      <td>481.15</td>\n",
       "      <td>64.23</td>\n",
       "      <td>68.0450</td>\n",
       "    </tr>\n",
       "    <tr>\n",
       "      <th>2</th>\n",
       "      <td>475.50</td>\n",
       "      <td>64.42</td>\n",
       "      <td>67.8162</td>\n",
       "    </tr>\n",
       "    <tr>\n",
       "      <th>3</th>\n",
       "      <td>474.50</td>\n",
       "      <td>64.00</td>\n",
       "      <td>68.4213</td>\n",
       "    </tr>\n",
       "    <tr>\n",
       "      <th>4</th>\n",
       "      <td>480.95</td>\n",
       "      <td>64.62</td>\n",
       "      <td>68.3747</td>\n",
       "    </tr>\n",
       "    <tr>\n",
       "      <th>...</th>\n",
       "      <td>...</td>\n",
       "      <td>...</td>\n",
       "      <td>...</td>\n",
       "    </tr>\n",
       "    <tr>\n",
       "      <th>884</th>\n",
       "      <td>577.95</td>\n",
       "      <td>79.39</td>\n",
       "      <td>99.0480</td>\n",
       "    </tr>\n",
       "    <tr>\n",
       "      <th>885</th>\n",
       "      <td>583.20</td>\n",
       "      <td>79.07</td>\n",
       "      <td>100.5113</td>\n",
       "    </tr>\n",
       "    <tr>\n",
       "      <th>886</th>\n",
       "      <td>591.45</td>\n",
       "      <td>79.54</td>\n",
       "      <td>101.1178</td>\n",
       "    </tr>\n",
       "    <tr>\n",
       "      <th>887</th>\n",
       "      <td>593.95</td>\n",
       "      <td>77.15</td>\n",
       "      <td>101.3451</td>\n",
       "    </tr>\n",
       "    <tr>\n",
       "      <th>888</th>\n",
       "      <td>594.50</td>\n",
       "      <td>77.04</td>\n",
       "      <td>100.5506</td>\n",
       "    </tr>\n",
       "  </tbody>\n",
       "</table>\n",
       "<p>889 rows × 3 columns</p>\n",
       "</div>"
      ],
      "text/plain": [
       "       rosn  brent   eur_rub\n",
       "0    473.50  65.02   68.0555\n",
       "1    481.15  64.23   68.0450\n",
       "2    475.50  64.42   67.8162\n",
       "3    474.50  64.00   68.4213\n",
       "4    480.95  64.62   68.3747\n",
       "..      ...    ...       ...\n",
       "884  577.95  79.39   99.0480\n",
       "885  583.20  79.07  100.5113\n",
       "886  591.45  79.54  101.1178\n",
       "887  593.95  77.15  101.3451\n",
       "888  594.50  77.04  100.5506\n",
       "\n",
       "[889 rows x 3 columns]"
      ]
     },
     "execution_count": 79,
     "metadata": {},
     "output_type": "execute_result"
    }
   ],
   "source": [
    "select_risk_factors('rosn', risk_factors_dtc['rosn'])"
   ]
  }
 ],
 "metadata": {
  "kernelspec": {
   "display_name": "base",
   "language": "python",
   "name": "python3"
  },
  "language_info": {
   "codemirror_mode": {
    "name": "ipython",
    "version": 3
   },
   "file_extension": ".py",
   "mimetype": "text/x-python",
   "name": "python",
   "nbconvert_exporter": "python",
   "pygments_lexer": "ipython3",
   "version": "3.8.12"
  }
 },
 "nbformat": 4,
 "nbformat_minor": 2
}
